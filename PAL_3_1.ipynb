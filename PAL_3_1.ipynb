{
  "nbformat": 4,
  "nbformat_minor": 0,
  "metadata": {
    "colab": {
      "provenance": [],
      "authorship_tag": "ABX9TyPTdWLchMWv8Oms1uFhw5ay",
      "include_colab_link": true
    },
    "kernelspec": {
      "name": "python3",
      "display_name": "Python 3"
    },
    "language_info": {
      "name": "python"
    }
  },
  "cells": [
    {
      "cell_type": "markdown",
      "metadata": {
        "id": "view-in-github",
        "colab_type": "text"
      },
      "source": [
        "<a href=\"https://colab.research.google.com/github/dr-bankert-augustana/PHYS_313/blob/main/PAL_3_1.ipynb\" target=\"_parent\"><img src=\"https://colab.research.google.com/assets/colab-badge.svg\" alt=\"Open In Colab\"/></a>"
      ]
    },
    {
      "cell_type": "markdown",
      "source": [
        "<a name=\"Notebook-Start\"></a>\n",
        "\n",
        "---\n",
        "\n",
        "<font size = 7> <b> Week 3: Wednesday PAL and Reading Qs </b> </font>\n",
        "\n",
        "---"
      ],
      "metadata": {
        "id": "1zjAhk0SIWgw"
      }
    },
    {
      "cell_type": "markdown",
      "source": [
        "<font size = 5> <b> Notebook Index </b> </font>\n",
        "\n",
        "1.  [Reading Questions](#Reading-Q)\n",
        "\n",
        "2.  [PAL](#PAL)\n",
        "$\n",
        "\\newcommand{\\lsum}{\\displaystyle \\sum\\limits_{i=1}^{N}}\n",
        "\\newcommand{\\parens}[1]{\\left(#1\\right)}\n",
        "\\newcommand{\\dsfrac}[2]{\\displaystyle\\frac{#1}{#2}}\n",
        "\\newcommand{\\dpfrac}[2]{\\displaystyle\\parens{\\frac{#1}{#2}}}\n",
        "\\newcommand{\\parderiv}[2]{\\dsfrac{\\partial #1}{\\partial #2}}\n",
        "\\newcommand{\\spc}{\\hspace{0.1 pc}}\n",
        "\\newcommand{\\ra}{\\Rightarrow}\n",
        "\\newcommand{\\of}[1]{{\\scriptsize (#1)}}\n",
        "\\newcommand{\\rule}{\\Huge \\hspace{-0.2 pc} \\displaystyle\\frac{\\hspace{20 pc}}{\\hspace{20 pc}}}\n",
        "\\newcommand{\\mps}{\\spc \\frac{\\textrm{m}}{\\textrm{s}}}\n",
        "\\newcommand{\\mpss}{\\spc \\frac{\\textrm{m}}{\\textrm{s}^2}}\n",
        "$"
      ],
      "metadata": {
        "id": "z_QfF6EJIbEG"
      }
    },
    {
      "cell_type": "markdown",
      "source": [
        "<a name=\"Reading-Q\"></a>\n",
        "\n",
        "---\n",
        "\n",
        "<font size = 6> <b> 1. Reading Questions </b> </font>\n",
        "\n",
        "---"
      ],
      "metadata": {
        "id": "g3HIwFUVIdqN"
      }
    },
    {
      "cell_type": "markdown",
      "source": [
        "<font size = 5> <b> Reading Question 1 </b> </font>\n",
        "\n",
        "In your own words, what is the first law of thermodynamics?"
      ],
      "metadata": {
        "id": "chObQ-ZMIf2E"
      }
    },
    {
      "cell_type": "markdown",
      "source": [
        "<b>Your Answer Here</b>"
      ],
      "metadata": {
        "id": "wK6IcCIMInzi"
      }
    },
    {
      "cell_type": "markdown",
      "source": [
        "<center>$\\rule$</center>\n",
        "<font size = 5> <b> Reading Question 2 </b> </font>\n",
        "\n",
        "What is mechanical energy?"
      ],
      "metadata": {
        "id": "HJfu1c3WIpCi"
      }
    },
    {
      "cell_type": "markdown",
      "source": [
        "<b>Your Answer Here</b>"
      ],
      "metadata": {
        "id": "Y4nK5MI3JFQp"
      }
    },
    {
      "cell_type": "markdown",
      "source": [
        "<center>$\\rule$</center>\n",
        "<font size = 5> <b> Reading Question 3 </b> </font>\n",
        "\n",
        "What is efficiency?"
      ],
      "metadata": {
        "id": "eqPAucHwIz46"
      }
    },
    {
      "cell_type": "markdown",
      "source": [
        "<b>Your Answer Here</b>"
      ],
      "metadata": {
        "id": "DOawygZfJGlS"
      }
    },
    {
      "cell_type": "markdown",
      "source": [
        "<center>$\\rule$</center>\n",
        "<font size = 5> <b> Reading Question 4 </b> </font>\n",
        "\n",
        "What are the two forms of energy interaction for a closed system (not isolated system)?"
      ],
      "metadata": {
        "id": "bdczkZNHI3Zz"
      }
    },
    {
      "cell_type": "markdown",
      "source": [
        "<b>Your Answer Here</b>"
      ],
      "metadata": {
        "id": "zbY0kRQ7JHKV"
      }
    },
    {
      "cell_type": "markdown",
      "source": [
        "<center>$\\rule$</center>\n",
        "<font size = 5> <b> Reading Question 2 </b> </font>\n",
        "\n",
        "What is work?"
      ],
      "metadata": {
        "id": "7Wio5PEbJCHG"
      }
    },
    {
      "cell_type": "markdown",
      "source": [
        "<b>Your Answer Here</b>"
      ],
      "metadata": {
        "id": "SYqAz_-nJIC9"
      }
    },
    {
      "cell_type": "markdown",
      "source": [
        "[Return to Top](#Notebook-Start)"
      ],
      "metadata": {
        "id": "DvupJFcrJLgh"
      }
    },
    {
      "cell_type": "markdown",
      "source": [],
      "metadata": {
        "id": "TmMR0gL2JM6s"
      }
    },
    {
      "cell_type": "markdown",
      "source": [
        "[Return to Top](#Notebook-Start)"
      ],
      "metadata": {
        "id": "9w8B1P11JLBh"
      }
    },
    {
      "cell_type": "markdown",
      "source": [
        "<a name=\"PAL\"></a>\n",
        "\n",
        "---\n",
        "\n",
        "<font size = 6> <b> 2. PAL </b> </font>\n",
        "\n",
        "---"
      ],
      "metadata": {
        "id": "q_O53o0ZJO4S"
      }
    },
    {
      "cell_type": "markdown",
      "source": [
        "<font size = 5> <b> Problem 1 </b> </font>\n",
        "\n",
        "How much work is required to bring a (5000 kg) object that has a volume of (3 m$^3$ from (100 m) below the surface of water to the surface?"
      ],
      "metadata": {
        "id": "chgB6wEgJRdF"
      }
    },
    {
      "cell_type": "code",
      "execution_count": null,
      "metadata": {
        "id": "fHLou4J3IRFY"
      },
      "outputs": [],
      "source": []
    },
    {
      "cell_type": "markdown",
      "source": [
        "<b>Your Answer Here</b>"
      ],
      "metadata": {
        "id": "sjKmBdr7J2QN"
      }
    },
    {
      "cell_type": "markdown",
      "source": [
        "<center>$\\rule$</center>\n",
        "<font size = 5> <b> Problem 2 </b> </font>\n",
        "\n",
        "Water is pumped from a lower reservoir to a higher\n",
        "reservoir by a pump that provides 20 kW of shaft power.\n",
        "The free surface of the upper reservoir is 45 m higher than\n",
        "that of the lower reservoir. If the flow rate of water is measured to be 0.03 m$^3$/s, determine mechanical power that is converted to thermal energy during this process due to frictional effects."
      ],
      "metadata": {
        "id": "IPmsR_FmJ6zD"
      }
    },
    {
      "cell_type": "code",
      "source": [],
      "metadata": {
        "id": "JPLoPu6MJ2hZ"
      },
      "execution_count": null,
      "outputs": []
    },
    {
      "cell_type": "markdown",
      "source": [
        "<b>Your Answer Here</b>"
      ],
      "metadata": {
        "id": "splhmB4lKQYi"
      }
    },
    {
      "cell_type": "markdown",
      "source": [
        "<center>$\\rule$</center>\n",
        "<font size = 5> <b> Problem 3 </b> </font>\n",
        "\n",
        "Consider a room that is initially at the outdoor tem-\n",
        "perature of 20 degrees C. The room contains a 40 W lightbulb, a\n",
        "110 W TV set, a 300 W refrigerator, and a 1200 W iron.\n",
        "Assuming no heat transfer through the walls, determine the\n",
        "rate of increase of the energy content of the room when all of\n",
        "these electric devices are on."
      ],
      "metadata": {
        "id": "Bo1B05GgKS7-"
      }
    },
    {
      "cell_type": "code",
      "source": [],
      "metadata": {
        "id": "5kWhkvTuKQpS"
      },
      "execution_count": null,
      "outputs": []
    },
    {
      "cell_type": "markdown",
      "source": [
        "<b>Your Answer Here</b>"
      ],
      "metadata": {
        "id": "GnUi6YJrKRUM"
      }
    },
    {
      "cell_type": "code",
      "source": [],
      "metadata": {
        "id": "gahiG5Q2KtEF"
      },
      "execution_count": null,
      "outputs": []
    }
  ]
}