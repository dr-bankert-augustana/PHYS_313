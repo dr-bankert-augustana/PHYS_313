{
  "nbformat": 4,
  "nbformat_minor": 0,
  "metadata": {
    "colab": {
      "provenance": [],
      "authorship_tag": "ABX9TyNkhPPbfLBrnjfrn0Isqft7",
      "include_colab_link": true
    },
    "kernelspec": {
      "name": "python3",
      "display_name": "Python 3"
    },
    "language_info": {
      "name": "python"
    }
  },
  "cells": [
    {
      "cell_type": "markdown",
      "metadata": {
        "id": "view-in-github",
        "colab_type": "text"
      },
      "source": [
        "<a href=\"https://colab.research.google.com/github/dr-bankert-augustana/PHYS_313/blob/main/Homework_1.ipynb\" target=\"_parent\"><img src=\"https://colab.research.google.com/assets/colab-badge.svg\" alt=\"Open In Colab\"/></a>"
      ]
    },
    {
      "cell_type": "markdown",
      "source": [
        "<a name=\"Notebook-Start\"></a>\n",
        "\n",
        "---\n",
        "\n",
        "<font size = 7> <b> PHYS 313 Homework 1 </b> </font>\n",
        "\n",
        "---"
      ],
      "metadata": {
        "id": "IlhKwuuwqwU1"
      }
    },
    {
      "cell_type": "markdown",
      "source": [
        "<font size = 5> <b> Notebook Index </b> </font>\n",
        "\n",
        "1. [Problem 1](#Problem-1)\n",
        "\n",
        "2. [Problem 2](#Problem-2)\n",
        "\n",
        "3. [Problem 3](#Problem-3)\n",
        "\n",
        "4. [Problem 4](#Problem-4)\n",
        "\n",
        "5. [Problem 5](#Problem-5)\n",
        "\n",
        "6. [Problem 6](#Problem-6)\n",
        "$\n",
        "\\newcommand{\\lsum}{\\displaystyle \\sum\\limits_{i=1}^{N}}\n",
        "\\newcommand{\\parens}[1]{\\left(#1\\right)}\n",
        "\\newcommand{\\dsfrac}[2]{\\displaystyle\\frac{#1}{#2}}\n",
        "\\newcommand{\\dpfrac}[2]{\\displaystyle\\parens{\\frac{#1}{#2}}}\n",
        "\\newcommand{\\parderiv}[2]{\\dsfrac{\\partial #1}{\\partial #2}}\n",
        "\\newcommand{\\spc}{\\hspace{0.1 pc}}\n",
        "\\newcommand{\\ra}{\\Rightarrow}\n",
        "\\newcommand{\\of}[1]{{\\scriptsize (#1)}}\n",
        "\\newcommand{\\rule}{\\Huge \\hspace{-0.2 pc} \\displaystyle\\frac{\\hspace{20 pc}}{\\hspace{20 pc}}}\n",
        "\\newcommand{\\mps}{\\spc \\frac{\\textrm{m}}{\\textrm{s}}}\n",
        "\\newcommand{\\mpss}{\\spc \\frac{\\textrm{m}}{\\textrm{s}^2}}\n",
        "$"
      ],
      "metadata": {
        "id": "dPVjoCG7q5Vt"
      }
    },
    {
      "cell_type": "markdown",
      "source": [
        "<a name=\"Problem-1\"></a>\n",
        "\n",
        "---\n",
        "\n",
        "<font size = 6> <b> Problem 1 </b> </font>\n",
        "\n",
        "---"
      ],
      "metadata": {
        "id": "9M44DZbPrXBQ"
      }
    },
    {
      "cell_type": "markdown",
      "source": [
        "<p align=\"justify\">\n",
        "A particular object undergoes a temperature change from 250 K to 350 K. What is this change in temperature as measured in\n",
        "\n",
        "<br>\n",
        "\n",
        "<ol type = \"A\">\n",
        "  <li>$^{o}$F</li>\n",
        "  <br>\n",
        "  <li>$^{o}$C</li>\n",
        "  <br>\n",
        "  <li>R</li>\n",
        "</ol>"
      ],
      "metadata": {
        "id": "E1ft3RWWsJ_J"
      }
    },
    {
      "cell_type": "code",
      "source": [
        "# Feel free to use Python to help solve the problem."
      ],
      "metadata": {
        "id": "KaRzbkpytqAm"
      },
      "execution_count": 2,
      "outputs": []
    },
    {
      "cell_type": "markdown",
      "source": [
        "<b>Your Answer Here</b>"
      ],
      "metadata": {
        "id": "wrLb5oA7tmzv"
      }
    },
    {
      "cell_type": "markdown",
      "source": [
        "[Return to Top](#Notebook-Start)"
      ],
      "metadata": {
        "id": "vV5gw9mcsCR4"
      }
    },
    {
      "cell_type": "markdown",
      "source": [
        "<a name=\"Problem-2\"></a>\n",
        "\n",
        "---\n",
        "\n",
        "<font size = 6> <b> Problem 2 </b> </font>\n",
        "\n",
        "---"
      ],
      "metadata": {
        "id": "HMlbkYf_rgYP"
      }
    },
    {
      "cell_type": "markdown",
      "source": [
        "The rate of energy loss of an object due to thermal radiation is given by: $P = \\sigma \\spc \\epsilon \\spc A \\spc \\parens{T_{\\text{(obj)}}^4 - T_{\\text{env}}^4}$\n",
        "\n",
        "<br>\n",
        "\n",
        "  * Stefan-Boltzmann constant ($\\sigma$): $\\sigma = 5.67 \\times 10^{-8}\\spc\\frac{\\text{W}}{\\text{m}^2 \\spc \\text{K}^4}$\n",
        "\n",
        "  * Emmisivity ($\\epsilon$): Unitless quantity that is a measure of a surface's ability to emit thermal radiation.\n",
        "\n",
        "  * Surface Area (A): Amount of surface that is emitting radiation\n",
        "\n",
        "  * Power (P): The rate at which thermal energy leaves the object.\n",
        "\n",
        "<br>\n",
        "\n",
        "Derive the appropriate replacement constant for ($\\sigma$) when using temperatures in $^{o}F$"
      ],
      "metadata": {
        "id": "BcaiXQf_sIlP"
      }
    },
    {
      "cell_type": "code",
      "source": [
        "# Feel free to use Python to help solve the problem."
      ],
      "metadata": {
        "id": "KdCGaP1Ot0sY"
      },
      "execution_count": 3,
      "outputs": []
    },
    {
      "cell_type": "markdown",
      "source": [
        "<b>Your Answer Here</b>"
      ],
      "metadata": {
        "id": "0soK51SUtxAt"
      }
    },
    {
      "cell_type": "markdown",
      "source": [
        "[Return to Top](#Notebook-Start)"
      ],
      "metadata": {
        "id": "cD_5mJyssBzX"
      }
    },
    {
      "cell_type": "markdown",
      "source": [
        "<a name=\"Problem-3\"></a>\n",
        "\n",
        "---\n",
        "\n",
        "<font size = 6> <b> Problem 3 </b> </font>\n",
        "\n",
        "---"
      ],
      "metadata": {
        "id": "gOHMvKsTrkWA"
      }
    },
    {
      "cell_type": "markdown",
      "source": [
        "<p align=\"justify\">\n",
        "A U-tube manometer is used to measure the pressure of a gas container. One side is open to the atmosphere (101.3 kPa), and the other side is connected to the container. The mercury column is 12 cm higher on the open side. Calculate the absolute and gauge pressure in the gas container. (Density of mercury is 13,600 $\\frac{\\text{kg}}{\\text{m}^3}$)\n",
        "</p>\n",
        "\n",
        "<br>\n",
        "\n",
        "<ol type = \"A\">\n",
        "  <li>Calculate the absolute pressure in the gas container.</li>\n",
        "  <br>\n",
        "  <li>Calculate the guage pressure in the gas container.</li>\n",
        "</ol>"
      ],
      "metadata": {
        "id": "4oi-V4yrsLAp"
      }
    },
    {
      "cell_type": "code",
      "source": [
        "# Feel free to use Python to help solve the problem."
      ],
      "metadata": {
        "id": "Lr8l5cdbt5vm"
      },
      "execution_count": null,
      "outputs": []
    },
    {
      "cell_type": "markdown",
      "source": [
        "<b>Your Answer Here</b>"
      ],
      "metadata": {
        "id": "dfL26GqQuCFk"
      }
    },
    {
      "cell_type": "markdown",
      "source": [
        "[Return to Top](#Notebook-Start)"
      ],
      "metadata": {
        "id": "6zjp3_S-sBSY"
      }
    },
    {
      "cell_type": "markdown",
      "source": [
        "<a name=\"Problem-4\"></a>\n",
        "\n",
        "---\n",
        "\n",
        "<font size = 6> <b> Problem 4 </b> </font>\n",
        "\n",
        "---"
      ],
      "metadata": {
        "id": "SedmoFewrmJg"
      }
    },
    {
      "cell_type": "markdown",
      "source": [
        "<p align=\"justify\">\n",
        "Consider an initially open piston-cylinder device located near sea-level. The weightless piston is frictionless and can move freely. It has a surface area of 0.05 m$^2$. The piston is closed and a weight is placed on the piston so that the air pressure inside the piston is now 1.3 times the pressure outside the piston-cylinder.\n",
        "</p>\n",
        "\n",
        "<br>\n",
        "\n",
        "<ol type = \"A\">\n",
        "  <li>Calculate the weight on the piston.</li>\n",
        "  <br>\n",
        "  <li>The weight is now doubled, what is the new pressure in (kPa) inside the cylinder?</li>\n",
        "</ol>"
      ],
      "metadata": {
        "id": "-8aQUXv9sLjE"
      }
    },
    {
      "cell_type": "code",
      "source": [
        "# Feel free to use Python to help solve the problem."
      ],
      "metadata": {
        "id": "rQuAPEznt6qs"
      },
      "execution_count": null,
      "outputs": []
    },
    {
      "cell_type": "markdown",
      "source": [
        "<b>Your Answer Here</b>"
      ],
      "metadata": {
        "id": "xP33unn1uFTt"
      }
    },
    {
      "cell_type": "markdown",
      "source": [
        "[Return to Top](#Notebook-Start)"
      ],
      "metadata": {
        "id": "Kahn0tXCsAt4"
      }
    },
    {
      "cell_type": "markdown",
      "source": [
        "<a name=\"Problem-5\"></a>\n",
        "\n",
        "---\n",
        "\n",
        "<font size = 6> <b> Problem 5 </b> </font>\n",
        "\n",
        "---"
      ],
      "metadata": {
        "id": "nO-xYCDFroXT"
      }
    },
    {
      "cell_type": "markdown",
      "source": [
        "Let's assume that air has a simple density-altitude relationship: $\\rho\\of{h} = \\rho_0 \\spc e^{-h/H}$. Where:\n",
        "\n",
        "  * $\\rho_0 = 1.3 \\times 10^{-3} \\spc \\frac{\\text{g}}{\\text{m}^3}$\n",
        "\n",
        "  * $H \\approx 100$ km\n",
        "\n",
        "  * $h$ is the altitude where the density is being measured.\n",
        "\n",
        "Do the following:\n",
        "\n",
        "<br>\n",
        "\n",
        "<ol type = \"A\">\n",
        "  <li>Calculate the air pressure at $h = 3$ km.</li>\n",
        "  <br>\n",
        "  <li>Find the difference in bouyancy force on an object with volume (0.1 m$^3$) between sea-level and 9 km (approximate height of Mt. Everest).</li>\n",
        "</ol>"
      ],
      "metadata": {
        "id": "pBuJ1Ws6sMBR"
      }
    },
    {
      "cell_type": "code",
      "source": [
        "# Feel free to use Python to help solve the problem."
      ],
      "metadata": {
        "id": "yw_7rfByt7vr"
      },
      "execution_count": null,
      "outputs": []
    },
    {
      "cell_type": "markdown",
      "source": [
        "<b>Your Answer Here</b>"
      ],
      "metadata": {
        "id": "XFQPc8X9uG1m"
      }
    },
    {
      "cell_type": "markdown",
      "source": [
        "[Return to Top](#Notebook-Start)"
      ],
      "metadata": {
        "id": "Y2vl3OULr_mk"
      }
    },
    {
      "cell_type": "markdown",
      "source": [
        "<a name=\"Problem-6\"></a>\n",
        "\n",
        "---\n",
        "\n",
        "<font size = 6> <b> Problem 6 </b> </font>\n",
        "\n",
        "---"
      ],
      "metadata": {
        "id": "LkskFJ0yrrEO"
      }
    },
    {
      "cell_type": "markdown",
      "source": [
        "<ol type = \"A\">\n",
        "  <li>A certain steel rod is 2 meters long at 20°C. If the Coefficient of linear expansion for steel is $1.1 \\times 10^{-5} \\spc \\frac{1}{\\text{K}}$,\n",
        "calculate its length at 120°C.</li>\n",
        "  <br>\n",
        "  <li>A tank contains 50 liters of ethanol at 25°C. Find the volume at 60°C if the volumetric expansion coefficient for ethanol is $1.12 \\times 10^{-3} \\spc \\frac{1}{\\text{K}}$</li>\n",
        "</ol>"
      ],
      "metadata": {
        "id": "ZBJ48wP_sMia"
      }
    },
    {
      "cell_type": "code",
      "source": [
        "# Feel free to use Python to help solve the problem."
      ],
      "metadata": {
        "id": "2RWAX-ujt8vq"
      },
      "execution_count": null,
      "outputs": []
    },
    {
      "cell_type": "markdown",
      "source": [
        "<b>Your Answer Here</b>"
      ],
      "metadata": {
        "id": "QPozK-jTuIU_"
      }
    },
    {
      "cell_type": "markdown",
      "source": [
        "[Return to Top](#Notebook-Start)\n",
        "\n",
        "---"
      ],
      "metadata": {
        "id": "bNIBgtzrr8RP"
      }
    },
    {
      "cell_type": "code",
      "source": [],
      "metadata": {
        "id": "NJnwJJk3qujB"
      },
      "execution_count": null,
      "outputs": []
    }
  ]
}