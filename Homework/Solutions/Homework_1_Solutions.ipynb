{
  "nbformat": 4,
  "nbformat_minor": 0,
  "metadata": {
    "colab": {
      "provenance": [],
      "authorship_tag": "ABX9TyMJIGUqVS2bAt6MV2UU7NEh",
      "include_colab_link": true
    },
    "kernelspec": {
      "name": "python3",
      "display_name": "Python 3"
    },
    "language_info": {
      "name": "python"
    }
  },
  "cells": [
    {
      "cell_type": "markdown",
      "metadata": {
        "id": "view-in-github",
        "colab_type": "text"
      },
      "source": [
        "<a href=\"https://colab.research.google.com/github/dr-bankert-augustana/PHYS_313/blob/main/Homework/Solutions/Homework_1_Solutions.ipynb\" target=\"_parent\"><img src=\"https://colab.research.google.com/assets/colab-badge.svg\" alt=\"Open In Colab\"/></a>"
      ]
    },
    {
      "cell_type": "markdown",
      "source": [
        "<a name=\"Notebook-Start\"></a>\n",
        "\n",
        "---\n",
        "\n",
        "<font size = 7> <b> PHYS 313 Homework 1 Solutions</b> </font>\n",
        "\n",
        "---"
      ],
      "metadata": {
        "id": "IlhKwuuwqwU1"
      }
    },
    {
      "cell_type": "markdown",
      "source": [
        "<font size = 5> <b> Notebook Index </b> </font>\n",
        "\n",
        "1. [Problem 1](#Problem-1)\n",
        "\n",
        "2. [Problem 2](#Problem-2)\n",
        "\n",
        "3. [Problem 3](#Problem-3)\n",
        "\n",
        "4. [Problem 4](#Problem-4)\n",
        "\n",
        "5. [Problem 5](#Problem-5)\n",
        "\n",
        "6. [Problem 6](#Problem-6)\n",
        "$\n",
        "\\newcommand{\\lsum}{\\displaystyle \\sum\\limits_{i=1}^{N}}\n",
        "\\newcommand{\\parens}[1]{\\left(#1\\right)}\n",
        "\\newcommand{\\dsfrac}[2]{\\displaystyle\\frac{#1}{#2}}\n",
        "\\newcommand{\\dpfrac}[2]{\\displaystyle\\parens{\\frac{#1}{#2}}}\n",
        "\\newcommand{\\parderiv}[2]{\\dsfrac{\\partial #1}{\\partial #2}}\n",
        "\\newcommand{\\spc}{\\hspace{0.1 pc}}\n",
        "\\newcommand{\\ra}{\\Rightarrow}\n",
        "\\newcommand{\\of}[1]{{\\scriptsize (#1)}}\n",
        "\\newcommand{\\rule}{\\Huge \\hspace{-0.2 pc} \\displaystyle\\frac{\\hspace{20 pc}}{\\hspace{20 pc}}}\n",
        "\\newcommand{\\mps}{\\spc \\frac{\\textrm{m}}{\\textrm{s}}}\n",
        "\\newcommand{\\mpss}{\\spc \\frac{\\textrm{m}}{\\textrm{s}^2}}\n",
        "$"
      ],
      "metadata": {
        "id": "dPVjoCG7q5Vt"
      }
    },
    {
      "cell_type": "markdown",
      "source": [
        "<a name=\"Problem-1\"></a>\n",
        "\n",
        "---\n",
        "\n",
        "<font size = 6> <b> Problem 1 </b> </font>\n",
        "\n",
        "---"
      ],
      "metadata": {
        "id": "9M44DZbPrXBQ"
      }
    },
    {
      "cell_type": "markdown",
      "source": [
        "<p align=\"justify\">\n",
        "A particular object undergoes a temperature change from 250 K to 350 K. What is this change in temperature as measured in\n",
        "\n",
        "<br>\n",
        "\n",
        "<ol type = \"A\">\n",
        "  <li>$^{o}$F</li>\n",
        "  <br>\n",
        "  <li>$^{o}$C</li>\n",
        "  <br>\n",
        "  <li>R</li>\n",
        "</ol>"
      ],
      "metadata": {
        "id": "E1ft3RWWsJ_J"
      }
    },
    {
      "cell_type": "code",
      "source": [
        "def kelvin_to_fahrenheit(kelvin):\n",
        "    fahrenheit = (kelvin - 273.15) * 9/5 + 32\n",
        "    return fahrenheit\n",
        "\n",
        "def kelvin_to_celsius(kelvin):\n",
        "    celsius = kelvin - 273.15\n",
        "    return celsius\n",
        "\n",
        "def kelvin_to_rankine(kelvin):\n",
        "    rankine = (kelvin - 273.15) * 9/5\n",
        "    return rankine\n",
        "\n",
        "# A)\n",
        "\n",
        "T1_f = kelvin_to_fahrenheit(250)\n",
        "T2_f = kelvin_to_fahrenheit(350)\n",
        "delta_T_f = T2_f - T1_f\n",
        "\n",
        "print(f\"A) The change in temperature is {delta_T_f:.2f} degrees Fahrenheit.\")\n",
        "\n",
        "# B)\n",
        "\n",
        "T1_c = kelvin_to_celsius(250)\n",
        "T2_c = kelvin_to_celsius(350)\n",
        "delta_T_c = T2_c - T1_c\n",
        "\n",
        "print(f\"B) The change in temperature is {delta_T_c:.2f} degrees Celsius.\")\n",
        "\n",
        "# C)\n",
        "\n",
        "T1_r = kelvin_to_rankine(250)\n",
        "T2_r = kelvin_to_rankine(350)\n",
        "delta_T_r = T2_r - T1_r\n",
        "\n",
        "print(f\"C) The change in temperature is {delta_T_r:.2f} degrees Rankine.\")\n"
      ],
      "metadata": {
        "id": "KaRzbkpytqAm",
        "colab": {
          "base_uri": "https://localhost:8080/"
        },
        "outputId": "6706bb8f-d141-4f63-d96d-01ad960a3d37"
      },
      "execution_count": null,
      "outputs": [
        {
          "output_type": "stream",
          "name": "stdout",
          "text": [
            "A) The change in temperature is 180.00 degrees Fahrenheit.\n",
            "B) The change in temperature is 100.00 degrees Celsius.\n",
            "C) The change in temperature is 180.00 degrees Rankine.\n"
          ]
        }
      ]
    },
    {
      "cell_type": "markdown",
      "source": [
        "[Return to Top](#Notebook-Start)"
      ],
      "metadata": {
        "id": "vV5gw9mcsCR4"
      }
    },
    {
      "cell_type": "markdown",
      "source": [
        "<a name=\"Problem-2\"></a>\n",
        "\n",
        "---\n",
        "\n",
        "<font size = 6> <b> Problem 2 </b> </font>\n",
        "\n",
        "---"
      ],
      "metadata": {
        "id": "HMlbkYf_rgYP"
      }
    },
    {
      "cell_type": "markdown",
      "source": [
        "The rate of energy loss of an object due to thermal radiation is given by: $P = \\sigma \\spc \\epsilon \\spc A \\spc \\parens{T_{\\text{(obj)}}^4 - T_{\\text{env}}^4}$\n",
        "\n",
        "<br>\n",
        "\n",
        "  * Stefan-Boltzmann constant ($\\sigma$): $\\sigma = 5.67 \\times 10^{-8}\\spc\\frac{\\text{W}}{\\text{m}^2 \\spc \\text{K}^4}$\n",
        "\n",
        "  * Emmisivity ($\\epsilon$): Unitless quantity that is a measure of a surface's ability to emit thermal radiation.\n",
        "\n",
        "  * Surface Area (A): Amount of surface that is emitting radiation\n",
        "\n",
        "  * Power (P): The rate at which thermal energy leaves the object.\n",
        "\n",
        "<br>\n",
        "\n",
        "Derive the appropriate replacement constant for ($\\sigma$) when using temperatures in $^{o}F$"
      ],
      "metadata": {
        "id": "BcaiXQf_sIlP"
      }
    },
    {
      "cell_type": "code",
      "source": [
        "# Kelvin to Rankine = multiply by 1.8\n",
        "\n",
        "# Temperature is to the 4th power\n",
        "\n",
        "# sigma_f = sigma_k * 1.8^4\n",
        "\n",
        "sigma_f = 5.67 * 10**(-8) * 1.8**4\n",
        "print(sigma_f)"
      ],
      "metadata": {
        "id": "KdCGaP1Ot0sY",
        "colab": {
          "base_uri": "https://localhost:8080/"
        },
        "outputId": "8029b6b7-1e7a-4782-e01c-e90ed0cd7968"
      },
      "execution_count": null,
      "outputs": [
        {
          "output_type": "stream",
          "name": "stdout",
          "text": [
            "5.9521392e-07\n"
          ]
        }
      ]
    },
    {
      "cell_type": "markdown",
      "source": [
        "[Return to Top](#Notebook-Start)"
      ],
      "metadata": {
        "id": "cD_5mJyssBzX"
      }
    },
    {
      "cell_type": "markdown",
      "source": [
        "<a name=\"Problem-3\"></a>\n",
        "\n",
        "---\n",
        "\n",
        "<font size = 6> <b> Problem 3 </b> </font>\n",
        "\n",
        "---"
      ],
      "metadata": {
        "id": "gOHMvKsTrkWA"
      }
    },
    {
      "cell_type": "markdown",
      "source": [
        "<p align=\"justify\">\n",
        "A U-tube manometer is used to measure the pressure of a gas container. One side is open to the atmosphere (101.3 kPa), and the other side is connected to the container. The mercury column is 12 cm higher on the open side. Calculate the absolute and gauge pressure in the gas container. (Density of mercury is 13,600 $\\frac{\\text{kg}}{\\text{m}^3}$)\n",
        "</p>\n",
        "\n",
        "<br>\n",
        "\n",
        "<ol type = \"A\">\n",
        "  <li>Calculate the absolute pressure in the gas container.</li>\n",
        "  <br>\n",
        "  <li>Calculate the guage pressure in the gas container.</li>\n",
        "</ol>"
      ],
      "metadata": {
        "id": "4oi-V4yrsLAp"
      }
    },
    {
      "cell_type": "code",
      "source": [
        "rho = 13600 # kg/m^3\n",
        "g = 9.81 # m/s^2\n",
        "h = 12 # cm\n",
        "\n",
        "air_pressure = 101_300 # Pa\n",
        "\n",
        "# A)\n",
        "\n",
        "guage_pressure = rho * g * h\n",
        "\n",
        "print(f\"A) The guage pressure is {guage_pressure} kPa.\")\n",
        "\n",
        "# B)\n",
        "\n",
        "absolute_pressure = air_pressure + guage_pressure\n",
        "\n",
        "print(f\"B) The absolute pressure is {absolute_pressure} kPa.\")\n",
        "\n"
      ],
      "metadata": {
        "id": "Lr8l5cdbt5vm",
        "colab": {
          "base_uri": "https://localhost:8080/"
        },
        "outputId": "f596857f-bb6d-4690-8294-db7e0fc291ab"
      },
      "execution_count": null,
      "outputs": [
        {
          "output_type": "stream",
          "name": "stdout",
          "text": [
            "A) The guage pressure is 1600992.0 kPa.\n",
            "B) The absolute pressure is 1702292.0 kPa.\n"
          ]
        }
      ]
    },
    {
      "cell_type": "markdown",
      "source": [
        "<b>Your Answer Here</b>"
      ],
      "metadata": {
        "id": "dfL26GqQuCFk"
      }
    },
    {
      "cell_type": "markdown",
      "source": [
        "[Return to Top](#Notebook-Start)"
      ],
      "metadata": {
        "id": "6zjp3_S-sBSY"
      }
    },
    {
      "cell_type": "markdown",
      "source": [
        "<a name=\"Problem-4\"></a>\n",
        "\n",
        "---\n",
        "\n",
        "<font size = 6> <b> Problem 4 </b> </font>\n",
        "\n",
        "---"
      ],
      "metadata": {
        "id": "SedmoFewrmJg"
      }
    },
    {
      "cell_type": "markdown",
      "source": [
        "<p align=\"justify\">\n",
        "Consider an initially open piston-cylinder device located near sea-level. The weightless piston is frictionless and can move freely. It has a surface area of 0.05 m$^2$. The piston is closed and a weight is placed on the piston so that the air pressure inside the piston is now 1.3 times the pressure outside the piston-cylinder.\n",
        "</p>\n",
        "\n",
        "<br>\n",
        "\n",
        "<ol type = \"A\">\n",
        "  <li>Calculate the weight on the piston.</li>\n",
        "  <br>\n",
        "  <li>The weight is now doubled, what is the new pressure in (kPa) inside the cylinder?</li>\n",
        "</ol>"
      ],
      "metadata": {
        "id": "-8aQUXv9sLjE"
      }
    },
    {
      "cell_type": "code",
      "source": [
        "air_pressure = 101_300 # Pa\n",
        "piston_area = 0.05 # m^2\n",
        "weighted_pressure = 1.3 * air_pressure\n",
        "\n",
        "# A)\n",
        "\n",
        "weight = (weighted_pressure - air_pressure) * piston_area\n",
        "\n",
        "print(f\"A) The weight on the piston is {weight} N.\")\n",
        "\n",
        "# B)\n",
        "\n",
        "new_weight = 2 * weight\n",
        "\n",
        "new_weighted_pressure = new_weight / piston_area + air_pressure\n",
        "\n",
        "print(f\"B) The new pressure in the cylinder is {new_weighted_pressure / 1000} kPa.\")"
      ],
      "metadata": {
        "id": "rQuAPEznt6qs",
        "colab": {
          "base_uri": "https://localhost:8080/"
        },
        "outputId": "b8a7d51c-d2a8-4a77-ca57-5b885b441c09"
      },
      "execution_count": null,
      "outputs": [
        {
          "output_type": "stream",
          "name": "stdout",
          "text": [
            "A) The weight on the piston is 1519.5 N.\n",
            "B) The new pressure in the cylinder is 162.08 kPa.\n"
          ]
        }
      ]
    },
    {
      "cell_type": "markdown",
      "source": [
        "<b>Your Answer Here</b>"
      ],
      "metadata": {
        "id": "xP33unn1uFTt"
      }
    },
    {
      "cell_type": "markdown",
      "source": [
        "[Return to Top](#Notebook-Start)"
      ],
      "metadata": {
        "id": "Kahn0tXCsAt4"
      }
    },
    {
      "cell_type": "markdown",
      "source": [
        "<a name=\"Problem-5\"></a>\n",
        "\n",
        "---\n",
        "\n",
        "<font size = 6> <b> Problem 5 </b> </font>\n",
        "\n",
        "---"
      ],
      "metadata": {
        "id": "nO-xYCDFroXT"
      }
    },
    {
      "cell_type": "markdown",
      "source": [
        "Let's assume that air has a simple density-altitude relationship: $\\rho\\of{h} = \\dsfrac{\\rho_0}{8} \\spc e^{-h/H}$. Where:\n",
        "\n",
        "  * $\\rho_0 = 1.3 \\times 10^{3} \\spc \\frac{\\text{g}}{\\text{m}^3}$\n",
        "\n",
        "  * $H \\approx 100$ km\n",
        "\n",
        "  * $h$ is the altitude where the density is being measured.\n",
        "\n",
        "Do the following:\n",
        "\n",
        "<br>\n",
        "\n",
        "<ol type = \"A\">\n",
        "  <li>Calculate the air pressure at $h = 3$ km.</li>\n",
        "  <br>\n",
        "  <li>Find the difference in bouyancy force on an object with volume (0.1 m$^3$) between sea-level and 9 km (approximate height of Mt. Everest).</li>\n",
        "</ol>"
      ],
      "metadata": {
        "id": "pBuJ1Ws6sMBR"
      }
    },
    {
      "cell_type": "code",
      "source": [
        "from scipy.integrate import quad\n",
        "import numpy as np\n",
        "\n",
        "# A)\n",
        "#\n",
        "# P_h = P_0 - integral(rho * g * dh)\n",
        "#     = P_0 - g * integral(rho * dh)\n",
        "\n",
        "rho_0 = 1.3 # kg/m^3\n",
        "g = 9.81 # m/s^2\n",
        "H = 100000 # m\n",
        "P_0 = 101_300 # Pa\n",
        "\n",
        "def rho_h(h):\n",
        "\n",
        "  return rho_0 / 8 * 2.71828**(-h/H)\n",
        "\n",
        "integral_value, error = quad(rho_h, 0, 3000)\n",
        "\n",
        "P_h = P_0 - g * integral_value\n",
        "\n",
        "print()\n",
        "print(f\"A) The air pressure at h = 3 km is {np.round(P_h, 2)} Pa.\")\n",
        "\n",
        "# B)\n",
        "#\n",
        "# F_b = rho_air * V_object * g\n",
        "\n",
        "V_object = 0.1 # m^3\n",
        "\n",
        "F_b_ground = rho_h(0) * V_object * g\n",
        "\n",
        "F_b_9k = rho_h(9000) * V_object * g\n",
        "\n",
        "difference = F_b_ground - F_b_9k\n",
        "\n",
        "print()\n",
        "print(f\"B) The difference in bouyancy force is {np.round(difference, 4)} N.\")"
      ],
      "metadata": {
        "id": "yw_7rfByt7vr",
        "colab": {
          "base_uri": "https://localhost:8080/"
        },
        "outputId": "00008625-6328-42e7-b493-37dce058a5ca"
      },
      "execution_count": null,
      "outputs": [
        {
          "output_type": "stream",
          "name": "stdout",
          "text": [
            "\n",
            "A) The air pressure at h = 3 km is 96588.65 Pa.\n",
            "\n",
            "B) The difference in bouyancy force is 0.0137 N.\n"
          ]
        }
      ]
    },
    {
      "cell_type": "markdown",
      "source": [
        "<b>Your Answer Here</b>"
      ],
      "metadata": {
        "id": "XFQPc8X9uG1m"
      }
    },
    {
      "cell_type": "markdown",
      "source": [
        "[Return to Top](#Notebook-Start)"
      ],
      "metadata": {
        "id": "Y2vl3OULr_mk"
      }
    },
    {
      "cell_type": "markdown",
      "source": [
        "<a name=\"Problem-6\"></a>\n",
        "\n",
        "---\n",
        "\n",
        "<font size = 6> <b> Problem 6 </b> </font>\n",
        "\n",
        "---"
      ],
      "metadata": {
        "id": "LkskFJ0yrrEO"
      }
    },
    {
      "cell_type": "markdown",
      "source": [
        "<ol type = \"A\">\n",
        "  <li>A certain steel rod is 2 meters long at 20°C. If the Coefficient of linear expansion for steel is $1.1 \\times 10^{-5} \\spc \\frac{1}{\\text{K}}$,\n",
        "calculate its length at 120°C.</li>\n",
        "  <br>\n",
        "  <li>A tank contains 50 liters of ethanol at 25°C. Find the volume at 60°C if the volumetric expansion coefficient for ethanol is $1.12 \\times 10^{-3} \\spc \\frac{1}{\\text{K}}$</li>\n",
        "</ol>"
      ],
      "metadata": {
        "id": "ZBJ48wP_sMia"
      }
    },
    {
      "cell_type": "code",
      "source": [
        "# A)\n",
        "\n",
        "L = 2 # m\n",
        "T1 = 20 # deg C\n",
        "T2 = 120 # deg C\n",
        "\n",
        "coeff = 1.1 * 10**(-5)\n",
        "\n",
        "delta_T = T2 - T1\n",
        "\n",
        "delta_L = coeff * delta_T * L\n",
        "\n",
        "print(f\"A) The length of the rod at 120 deg C is {np.round(delta_L + L, 5)} m.\")\n",
        "\n",
        "# B)\n",
        "\n",
        "V = 50 # liters\n",
        "T1 = 25 # deg C\n",
        "T2 = 60 # deg C\n",
        "\n",
        "coeff = 1.12 * 10**(-3)\n",
        "\n",
        "delta_T = T2 - T1\n",
        "\n",
        "delta_V = coeff * delta_T * V\n",
        "\n",
        "print()\n",
        "print(f\"B) The volume of the tank at 60 deg C is {np.round(delta_V + V, 5)} liters.\")"
      ],
      "metadata": {
        "id": "2RWAX-ujt8vq",
        "colab": {
          "base_uri": "https://localhost:8080/"
        },
        "outputId": "ff61d4ac-90db-412e-f8f2-e34ac108dcae"
      },
      "execution_count": null,
      "outputs": [
        {
          "output_type": "stream",
          "name": "stdout",
          "text": [
            "A) The length of the rod at 120 deg C is 2.0022 m.\n",
            "\n",
            "B) The volume of the tank at 60 deg C is 51.96 liters.\n"
          ]
        }
      ]
    },
    {
      "cell_type": "markdown",
      "source": [
        "<b>Your Answer Here</b>"
      ],
      "metadata": {
        "id": "QPozK-jTuIU_"
      }
    },
    {
      "cell_type": "markdown",
      "source": [
        "[Return to Top](#Notebook-Start)\n",
        "\n",
        "---"
      ],
      "metadata": {
        "id": "bNIBgtzrr8RP"
      }
    },
    {
      "cell_type": "code",
      "source": [],
      "metadata": {
        "id": "NJnwJJk3qujB"
      },
      "execution_count": null,
      "outputs": []
    }
  ]
}