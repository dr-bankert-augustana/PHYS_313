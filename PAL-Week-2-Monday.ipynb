{
  "nbformat": 4,
  "nbformat_minor": 0,
  "metadata": {
    "colab": {
      "provenance": [],
      "authorship_tag": "ABX9TyOwKZ8UjAtgnS8a8IuIuF93",
      "include_colab_link": true
    },
    "kernelspec": {
      "name": "python3",
      "display_name": "Python 3"
    },
    "language_info": {
      "name": "python"
    }
  },
  "cells": [
    {
      "cell_type": "markdown",
      "metadata": {
        "id": "view-in-github",
        "colab_type": "text"
      },
      "source": [
        "<a href=\"https://colab.research.google.com/github/dr-bankert-augustana/PHYS_313/blob/main/PAL-Week-2-Monday.ipynb\" target=\"_parent\"><img src=\"https://colab.research.google.com/assets/colab-badge.svg\" alt=\"Open In Colab\"/></a>"
      ]
    },
    {
      "cell_type": "markdown",
      "source": [
        "<a name=\"Notebook-Start\"></a>\n",
        "\n",
        "---\n",
        "\n",
        "<font size = 7> <b> Week 2: Monday PAL </b> </font>\n",
        "\n",
        "---"
      ],
      "metadata": {
        "id": "AELNRaaIjcz7"
      }
    },
    {
      "cell_type": "markdown",
      "source": [
        "<font size = 5> <b> Notebook Index </b> </font>\n",
        "\n",
        "1. [PAL](#PAL)\n",
        "$\n",
        "\\newcommand{\\lsum}{\\displaystyle \\sum\\limits_{i=1}^{N}}\n",
        "\\newcommand{\\parens}[1]{\\left(#1\\right)}\n",
        "\\newcommand{\\dsfrac}[2]{\\displaystyle\\frac{#1}{#2}}\n",
        "\\newcommand{\\dpfrac}[2]{\\displaystyle\\parens{\\frac{#1}{#2}}}\n",
        "\\newcommand{\\parderiv}[2]{\\dsfrac{\\partial #1}{\\partial #2}}\n",
        "\\newcommand{\\spc}{\\hspace{0.1 pc}}\n",
        "\\newcommand{\\ra}{\\Rightarrow}\n",
        "\\newcommand{\\of}[1]{{\\scriptsize (#1)}}\n",
        "\\newcommand{\\rule}{\\Huge \\hspace{-0.2 pc} \\displaystyle\\frac{\\hspace{20 pc}}{\\hspace{20 pc}}}\n",
        "\\newcommand{\\mps}{\\spc \\frac{\\textrm{m}}{\\textrm{s}}}\n",
        "\\newcommand{\\mpss}{\\spc \\frac{\\textrm{m}}{\\textrm{s}^2}}\n",
        "$"
      ],
      "metadata": {
        "id": "W6WzFwyQjkg5"
      }
    },
    {
      "cell_type": "markdown",
      "source": [
        "<a name=\"PAL\"></a>\n",
        "\n",
        "---\n",
        "\n",
        "<font size = 6> <b> 1. PAL Questions </b> </font>\n",
        "\n",
        "---"
      ],
      "metadata": {
        "id": "t4tpaM_Tjx7F"
      }
    },
    {
      "cell_type": "markdown",
      "source": [
        "<font size = 5> <b> Problem 1 </b> </font>\n",
        "\n",
        "<p align = 'justify'>\n",
        "A given ideal gas is placed inside a constant-volume container. The temperature guage on the side of the container reads 55 $^{o}$C and the internal pressure guage reads 1.1 Atm.\n",
        "</p>\n",
        "\n",
        "<br>\n",
        "\n",
        "Find the coefficient of the absolute gas temperature scale for this ideal gas. Your answer should be in units of $\\left(\\frac{\\text{K}}{\\text{kPa}}\\right)$."
      ],
      "metadata": {
        "id": "_c1zkmSij4pf"
      }
    },
    {
      "cell_type": "code",
      "source": [
        "# Feel free to use Python to help you solve the problem."
      ],
      "metadata": {
        "id": "uCND3Av8kvn9"
      },
      "execution_count": 1,
      "outputs": []
    },
    {
      "cell_type": "markdown",
      "source": [
        "<b>Your Answer Here</b>"
      ],
      "metadata": {
        "id": "w5iVwLETknWx"
      }
    },
    {
      "cell_type": "markdown",
      "source": [
        "<center>$\\rule$</center>\n",
        "<font size = 5> <b> Problem 2 </b> </font>\n",
        "\n",
        "<p align = 'justify'>\n",
        "The constant-volume container in (<b>Problem 1</b>) is evacuated. The internal pressure guage now reads 0.01 Atm. The external pressure guage (which shows the pressure in the surrounding room) reads 1.05 Atm. If the container is a sphere of radius 0.9 m, find the total force (in Newtons) on the container's walls.\n",
        "</p>"
      ],
      "metadata": {
        "id": "Q3i7Pj_Sktyw"
      }
    },
    {
      "cell_type": "code",
      "execution_count": null,
      "metadata": {
        "id": "jubagCwNjagy"
      },
      "outputs": [],
      "source": [
        "# Feel free to use Python to help you solve the problem."
      ]
    },
    {
      "cell_type": "markdown",
      "source": [
        "<b>Your Answer Here</b>"
      ],
      "metadata": {
        "id": "xBchTpw9lyh_"
      }
    },
    {
      "cell_type": "markdown",
      "source": [
        "<center>$\\rule$</center>\n",
        "<font size = 5> <b> Problem 3 </b> </font>\n",
        "\n",
        "<p align = 'justify'>\n",
        "A given fluid has a density that increases linearly with depth as $\\rho_{(h)} = \\rho_0 + c \\spc h$ where $c = 1 \\times 10^{-2} \\spc \\left(\\frac{\\text{g}}{\\text{cm}^3}\\right) \\spc \\frac{1}{\\text{m}}$ and $\\rho_0 = 1 \\spc \\left(\\frac{\\text{g}}{\\text{cm}^3}\\right)$\n",
        "</p>\n",
        "\n",
        "<br>\n",
        "\n",
        "If the surface of the fluid is at sea level, determine the pressure at a depth of 30 meters below its surface."
      ],
      "metadata": {
        "id": "Owo0off8l-gl"
      }
    },
    {
      "cell_type": "code",
      "source": [
        "# Feel free to use Python to help you solve the problem."
      ],
      "metadata": {
        "id": "rtpYRhZhl0N3"
      },
      "execution_count": 2,
      "outputs": []
    },
    {
      "cell_type": "markdown",
      "source": [
        "<b>Your Answer Here</b>"
      ],
      "metadata": {
        "id": "mxRk8s5rnQWc"
      }
    },
    {
      "cell_type": "markdown",
      "source": [
        "<center>$\\rule$</center>\n",
        "<font size = 5> <b> Problem 4 </b> </font>\n",
        "\n",
        "<p align = 'justify'>\n",
        "A cube shaped object with side lengths of 8 meters is submerged in the fluid from (<b>Problem 3</b>). The top of the object is 2 meters below the surface.\n",
        "</p>\n",
        "\n",
        "<br>\n",
        "\n",
        "Determine the bouyancy force on the object."
      ],
      "metadata": {
        "id": "mVGOX79gnf8T"
      }
    },
    {
      "cell_type": "code",
      "source": [
        "# Feel free to use Python to help you solve the problem."
      ],
      "metadata": {
        "id": "popUgXPKnRGC"
      },
      "execution_count": 3,
      "outputs": []
    },
    {
      "cell_type": "markdown",
      "source": [
        "<b>Your Answer Here</b>"
      ],
      "metadata": {
        "id": "5KS4TjiqoAAV"
      }
    },
    {
      "cell_type": "markdown",
      "source": [
        "<center>$\\rule$</center>\n",
        "<font size = 5> <b> Problem 5 </b> </font>\n",
        "\n",
        "<p align = 'justify'>\n",
        "Given a hydraulic jack with a mechanical advantage of 25, what force is required to lift a 200 kg object?\n",
        "</p>"
      ],
      "metadata": {
        "id": "DxN840u1oF0P"
      }
    },
    {
      "cell_type": "code",
      "source": [
        "# Feel free to use Python to help you solve the problem."
      ],
      "metadata": {
        "id": "itMzuCn4n-M4"
      },
      "execution_count": null,
      "outputs": []
    },
    {
      "cell_type": "markdown",
      "source": [
        "<b>Your Answer Here</b>"
      ],
      "metadata": {
        "id": "FC4yhXwjoWI6"
      }
    },
    {
      "cell_type": "markdown",
      "source": [
        "[Return to Top](#Notebook-Start)\n",
        "\n",
        "---"
      ],
      "metadata": {
        "id": "bPYQcMbooYme"
      }
    }
  ]
}