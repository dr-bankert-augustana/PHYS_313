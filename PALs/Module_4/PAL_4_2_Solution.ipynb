{
  "nbformat": 4,
  "nbformat_minor": 0,
  "metadata": {
    "colab": {
      "provenance": [],
      "authorship_tag": "ABX9TyMK7UH7u6HUXbI/4hsV0FYS",
      "include_colab_link": true
    },
    "kernelspec": {
      "name": "python3",
      "display_name": "Python 3"
    },
    "language_info": {
      "name": "python"
    }
  },
  "cells": [
    {
      "cell_type": "markdown",
      "metadata": {
        "id": "view-in-github",
        "colab_type": "text"
      },
      "source": [
        "<a href=\"https://colab.research.google.com/github/dr-bankert-augustana/PHYS_313/blob/main/PAL_4_2_Solution.ipynb\" target=\"_parent\"><img src=\"https://colab.research.google.com/assets/colab-badge.svg\" alt=\"Open In Colab\"/></a>"
      ]
    },
    {
      "cell_type": "markdown",
      "source": [
        "<a name=\"Notebook-Start\"></a>\n",
        "\n",
        "---\n",
        "\n",
        "<font size = 7> <b> PAL 4.2 (Solutions) </b> </font>\n",
        "\n",
        "---"
      ],
      "metadata": {
        "id": "Km4PXMpEPCoo"
      }
    },
    {
      "cell_type": "markdown",
      "source": [
        "<font size = 5> <b> Notebook Index </b> </font>\n",
        "\n",
        "1.  [Problem 1](#Problem-1)\n",
        "\n",
        "2.  [Problem 2](#Problem-2)\n",
        "\n",
        "3.  [Problem 3](#Problem-3)\n",
        "$\n",
        "\\newcommand{\\parens}[1]{\\left( #1 \\right)}\n",
        "\\newcommand{\\brackets}[1]{\\left[ #1 \\right]}\n",
        "\\newcommand{\\lsum}{\\displaystyle \\sum\\limits_{i=1}^{N}}\n",
        "\\newcommand{\\parens}[1]{\\left(#1\\right)}\n",
        "\\newcommand{\\dsfrac}[2]{\\displaystyle\\frac{#1}{#2}}\n",
        "\\newcommand{\\dpfrac}[2]{\\displaystyle\\parens{\\frac{#1}{#2}}}\n",
        "\\newcommand{\\parderiv}[2]{\\dsfrac{\\partial #1}{\\partial #2}}\n",
        "\\newcommand{\\spc}{\\hspace{0.1 pc}}\n",
        "\\newcommand{\\ra}{\\Rightarrow}\n",
        "\\newcommand{\\of}[1]{{\\scriptsize (#1)}}\n",
        "\\newcommand{\\rule}{\\Huge \\hspace{-0.2 pc} \\displaystyle\\frac{\\hspace{20 pc}}{\\hspace{20 pc}}}\n",
        "\\newcommand{\\mps}{\\spc \\frac{\\textrm{m}}{\\textrm{s}}}\n",
        "\\newcommand{\\mpss}{\\spc \\frac{\\textrm{m}}{\\textrm{s}^2}}\n",
        "\\newcommand{\\twomatrixtall}[2]{\n",
        "\\left( \\begin{array}{c} #1 \\\\ #2 \\end{array} \\right)\n",
        "}\n",
        "\\newcommand{\\threematrixtall}[3]{\n",
        "\\left( \\begin{array}{c} #1 \\\\ #2 \\\\ #3 \\end{array} \\right)\n",
        "}\n",
        "\\newcommand{\\fourmatrixsquare}[4]{\n",
        "\\left( \\begin{array}{c c} #1 & #2 \\\\ #3 & #4 \\end{array} \\right)\n",
        "}\n",
        "\\newcommand{\\fourmatrixlong}[4]{\n",
        "\\left( \\begin{array}{c c c c} #1 & #2 & #3 & #4 \\end{array} \\right)\n",
        "}\n",
        "\\newcommand{\\ninematrixsquare}[9]{\n",
        "\\left( \\begin{array}{c c c} #1 & #2 & #3 \\\\ #4 & #5 & #6 \\\\ #7 & #8 & #9 \\end{array} \\right)\n",
        "}\n",
        "$"
      ],
      "metadata": {
        "id": "snojKmHxPIbf"
      }
    },
    {
      "cell_type": "markdown",
      "source": [
        "<a name=\"Problem-1\"></a>\n",
        "\n",
        "---\n",
        "\n",
        "<font size = 6> <b> Problem 1 </b> </font>\n",
        "\n",
        "---"
      ],
      "metadata": {
        "id": "-hXMlnitPPJg"
      }
    },
    {
      "cell_type": "markdown",
      "source": [
        "<font size = 5> <b> Problem 1 </b> </font>\n",
        "\n",
        "A rigid tank initially contains 1.5 kg of liquid water and 1.1 kg of water vapor in a saturated liquid-vapor mix at 100 degrees C. Determine the volume of the tank."
      ],
      "metadata": {
        "id": "q8wBz5KPPSy-"
      }
    },
    {
      "cell_type": "code",
      "execution_count": 18,
      "metadata": {
        "colab": {
          "base_uri": "https://localhost:8080/"
        },
        "id": "XNYw8N80O_X1",
        "outputId": "64cc320d-623c-486d-e095-24fa7470cd5e"
      },
      "outputs": [
        {
          "output_type": "stream",
          "name": "stdout",
          "text": [
            "The total volume of the tank is:  1.841 m^3\n"
          ]
        }
      ],
      "source": [
        "##=============================================================================================##\n",
        "## Import Libraries:                                                                           ##\n",
        "##=============================================================================================##\n",
        "\n",
        "import numpy as np\n",
        "\n",
        "##=============================================================================================##\n",
        "## Set the constant values:                                                                    ##\n",
        "##=============================================================================================##\n",
        "\n",
        "# Volume per Unit Mass (Liquid Water) at 100 Degrees C:\n",
        "\n",
        "v_liquid = 0.001043 # m^3 / kg\n",
        "\n",
        "# Volume per Unit Mass (Vapor Water) at 100 Degrees C:\n",
        "\n",
        "v_vapor = 1.6720 # m^3 / kg\n",
        "\n",
        "# Mass of Liquid Water:\n",
        "\n",
        "m_liquid = 1.5 # kg\n",
        "\n",
        "# Mass of Vapor Water:\n",
        "\n",
        "m_vapor = 1.1 # kg\n",
        "\n",
        "##=============================================================================================##\n",
        "## Calculate the Volume Occupied by the Fluid Mix:                                             ##\n",
        "##=============================================================================================##\n",
        "\n",
        "# Calculate Volume of Liquid Water:\n",
        "\n",
        "V_liquid = m_liquid * v_liquid\n",
        "\n",
        "# Calculate Volume of Vapor Water:\n",
        "\n",
        "V_vapor = m_vapor * v_vapor\n",
        "\n",
        "# Calculate Total Volume:\n",
        "\n",
        "V_total = V_liquid + V_vapor\n",
        "\n",
        "print(\"The total volume of the tank is: \", np.round(V_total, 3), \"m^3\")"
      ]
    },
    {
      "cell_type": "markdown",
      "source": [
        "[Return to Top](#Notebook-Start)"
      ],
      "metadata": {
        "id": "r9NoVlrgTtQb"
      }
    },
    {
      "cell_type": "markdown",
      "source": [
        "<a name=\"Problem-2\"></a>\n",
        "\n",
        "---\n",
        "\n",
        "<font size = 6> <b> Problem 2 </b> </font>\n",
        "\n",
        "---"
      ],
      "metadata": {
        "id": "MwAGbFpnTvvO"
      }
    },
    {
      "cell_type": "markdown",
      "source": [
        "An ideal gas triples in volume as it expands from a smaller container into a larger container, if the temperature of the larger container is 80% the temperature of the original container, what happens to the pressure of the gas?"
      ],
      "metadata": {
        "id": "58-1b3vJTqHY"
      }
    },
    {
      "cell_type": "code",
      "source": [
        "##=============================================================================================##\n",
        "## Set the constant values:                                                                    ##\n",
        "##=============================================================================================##\n",
        "\n",
        "# Volume Change Ratio:\n",
        "\n",
        "V_change_ratio = 3\n",
        "\n",
        "# Temperature Change Ratio:\n",
        "\n",
        "T_change_ratio = 0.8\n",
        "\n",
        "##=============================================================================================##\n",
        "## Calculate the Pressure Change Ratio:                                                        ##\n",
        "##=============================================================================================##\n",
        "\n",
        "P_change_ratio = T_change_ratio / V_change_ratio\n",
        "\n",
        "print(\"The pressure change ratio is: \", np.round(P_change_ratio, 3))"
      ],
      "metadata": {
        "colab": {
          "base_uri": "https://localhost:8080/"
        },
        "id": "ZmdV-wOpQ7Ss",
        "outputId": "10e1bc01-80e8-42cb-f112-cffadf8978d0"
      },
      "execution_count": 19,
      "outputs": [
        {
          "output_type": "stream",
          "name": "stdout",
          "text": [
            "The pressure change ratio is:  0.267\n"
          ]
        }
      ]
    },
    {
      "cell_type": "markdown",
      "source": [
        "[Return to Top](#Notebook-Start)"
      ],
      "metadata": {
        "id": "GyBfdP4OwmRq"
      }
    },
    {
      "cell_type": "markdown",
      "source": [
        "<a name=\"Problem-3\"></a>\n",
        "\n",
        "---\n",
        "\n",
        "<font size = 6> <b> Problem 3 </b> </font>\n",
        "\n",
        "---"
      ],
      "metadata": {
        "id": "rpa95LIDwoi_"
      }
    },
    {
      "cell_type": "markdown",
      "source": [
        "A 6.27 m$^3$ tank contains 200 kg of nitrogen at 175 K.\n",
        "Determine the pressure in the tank, using (a) the ideal-gas\n",
        "equation, (b) the van der Waals equation"
      ],
      "metadata": {
        "id": "cZPS-SWmwwBg"
      }
    },
    {
      "cell_type": "code",
      "source": [
        "##=============================================================================================##\n",
        "## Set the constant values:                                                                    ##\n",
        "##=============================================================================================##\n",
        "\n",
        "# Nitrogen Volume:\n",
        "\n",
        "V_nitrogen = 6.27 # m^3\n",
        "\n",
        "# Nitrogen Mass:\n",
        "\n",
        "m_nitrogen = 200 # kg\n",
        "\n",
        "# Nitrogen Temperature:\n",
        "\n",
        "T_nitrogen = 175 # K\n",
        "\n",
        "# Nitrogen Gas Constant:\n",
        "\n",
        "R_nitrogen = 0.2968 # kJ / (kg * K)\n",
        "\n",
        "# Nitrogen Critical Temperature:\n",
        "\n",
        "T_critical = 126.2 # K\n",
        "\n",
        "# Nitrogen Critical Pressure:\n",
        "\n",
        "P_critical = 3.39E6 # Pa\n",
        "\n",
        "##=============================================================================================##\n",
        "## Calculate the Pressure Using the Ideal Gas EOS:                                             ##\n",
        "##=============================================================================================##\n",
        "\n",
        "# Calculate the Per-Mass Volume:\n",
        "\n",
        "v_nitrogen = V_nitrogen / m_nitrogen\n",
        "\n",
        "# Calculate the Pressure (P = R * T / v):\n",
        "\n",
        "P_ideal = R_nitrogen * T_nitrogen / v_nitrogen\n",
        "\n",
        "print(\"The pressure using the ideal gas equation is: \", np.round(P_ideal, 2), \"kPa\")\n",
        "print()\n",
        "\n",
        "##=============================================================================================##\n",
        "## Calculate the Pressure Using the van der Waals EOS:                                         ##\n",
        "##=============================================================================================##\n",
        "\n",
        "# Calculate the a Parameter:\n",
        "\n",
        "a = 27 * R_nitrogen * T_critical**2 / (64 * P_critical)\n",
        "\n",
        "# Calculate the b Parameter:\n",
        "\n",
        "b = R_nitrogen * T_critical / (8 * P_critical)\n",
        "\n",
        "# Calculate the Pressure (P = R * T / (v - b) - a / v^2):\n",
        "\n",
        "P_van_der_Waals = R_nitrogen * T_nitrogen / (v_nitrogen - b) - a / v_nitrogen**2\n",
        "\n",
        "print(\"The pressure using the van der Waals equation is: \", np.round(P_van_der_Waals, 2), \"kPa\")\n"
      ],
      "metadata": {
        "id": "md2PRinRYeBA",
        "colab": {
          "base_uri": "https://localhost:8080/"
        },
        "outputId": "2eb0d670-999d-4887-9176-250d33f63a8a"
      },
      "execution_count": 24,
      "outputs": [
        {
          "output_type": "stream",
          "name": "stdout",
          "text": [
            "The pressure using the ideal gas equation is:  1656.78 kPa\n",
            "\n",
            "The pressure using the van der Waals equation is:  1656.25 kPa\n"
          ]
        }
      ]
    },
    {
      "cell_type": "code",
      "source": [],
      "metadata": {
        "id": "1eDidAy0zPGf"
      },
      "execution_count": null,
      "outputs": []
    }
  ]
}
