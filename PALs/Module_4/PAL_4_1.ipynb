{
  "nbformat": 4,
  "nbformat_minor": 0,
  "metadata": {
    "colab": {
      "provenance": [],
      "authorship_tag": "ABX9TyPLVXmI7R2YQmUdqU/wSX7Y",
      "include_colab_link": true
    },
    "kernelspec": {
      "name": "python3",
      "display_name": "Python 3"
    },
    "language_info": {
      "name": "python"
    }
  },
  "cells": [
    {
      "cell_type": "markdown",
      "metadata": {
        "id": "view-in-github",
        "colab_type": "text"
      },
      "source": [
        "<a href=\"https://colab.research.google.com/github/dr-bankert-augustana/PHYS_313/blob/main/PAL_4_1.ipynb\" target=\"_parent\"><img src=\"https://colab.research.google.com/assets/colab-badge.svg\" alt=\"Open In Colab\"/></a>"
      ]
    },
    {
      "cell_type": "markdown",
      "source": [
        "<a name=\"Notebook-Start\"></a>\n",
        "\n",
        "---\n",
        "\n",
        "<font size = 7> <b> Week 4: Wednesday PAL </b> </font>\n",
        "\n",
        "---"
      ],
      "metadata": {
        "id": "70cn2HOoN0iD"
      }
    },
    {
      "cell_type": "markdown",
      "source": [
        "<a name=\"PAL\"></a>\n",
        "\n",
        "---\n",
        "\n",
        "<font size = 6> <b> Reading Questions </b> </font>\n",
        "\n",
        "---"
      ],
      "metadata": {
        "id": "kEX10n2BN7wd"
      }
    },
    {
      "cell_type": "markdown",
      "source": [
        "<font size = 5> <b> Problem 1 </b> </font>\n",
        "\n",
        "List the States of matter and describe the molecular processes at work during each of their transitions."
      ],
      "metadata": {
        "id": "yMuOFCOlOBhj"
      }
    },
    {
      "cell_type": "markdown",
      "source": [
        "<b>Your answer here</b>"
      ],
      "metadata": {
        "id": "Wla45BiSOMzO"
      }
    },
    {
      "cell_type": "markdown",
      "source": [
        "<font size = 5> <b> Problem 2 </b> </font>\n",
        "\n",
        "Explain how 'vacuum freezing' works"
      ],
      "metadata": {
        "id": "Gfd4PqqXON-O"
      }
    },
    {
      "cell_type": "markdown",
      "source": [
        "<b>Your answer here</b>"
      ],
      "metadata": {
        "id": "_zM5zIwKOVBA"
      }
    },
    {
      "cell_type": "markdown",
      "source": [
        "<font size = 5> <b> Problem 3 </b> </font>\n",
        "\n",
        "Why doesn't the temperature of a pure substance rise during a phase change from liquid to gas?"
      ],
      "metadata": {
        "id": "HF2a5WclOWxG"
      }
    },
    {
      "cell_type": "markdown",
      "source": [
        "<b>Your answer here</b>"
      ],
      "metadata": {
        "id": "2kSFvp21Og6Q"
      }
    },
    {
      "cell_type": "markdown",
      "source": [
        "<font size = 5> <b> Problem 4 </b> </font>\n",
        "\n",
        "Define the terms supercooled liquid, superheated vapor, saturated liquid, saturated vapor, supercritical fluid."
      ],
      "metadata": {
        "id": "idPDjWx_Oir0"
      }
    },
    {
      "cell_type": "markdown",
      "source": [
        "<b>Your answer here</b>"
      ],
      "metadata": {
        "id": "p1JIjoskOsT3"
      }
    },
    {
      "cell_type": "code",
      "execution_count": null,
      "metadata": {
        "id": "PgWzfU2fNy3w"
      },
      "outputs": [],
      "source": []
    }
  ]
}
