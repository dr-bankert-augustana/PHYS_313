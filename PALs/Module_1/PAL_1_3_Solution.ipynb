{
  "nbformat": 4,
  "nbformat_minor": 0,
  "metadata": {
    "colab": {
      "provenance": [],
      "authorship_tag": "ABX9TyPNGKRH3N/jW6sOkbic+BM4",
      "include_colab_link": true
    },
    "kernelspec": {
      "name": "python3",
      "display_name": "Python 3"
    },
    "language_info": {
      "name": "python"
    }
  },
  "cells": [
    {
      "cell_type": "markdown",
      "metadata": {
        "id": "view-in-github",
        "colab_type": "text"
      },
      "source": [
        "<a href=\"https://colab.research.google.com/github/dr-bankert-augustana/PHYS_313/blob/main/PAL_1_3_Solution.ipynb\" target=\"_parent\"><img src=\"https://colab.research.google.com/assets/colab-badge.svg\" alt=\"Open In Colab\"/></a>"
      ]
    },
    {
      "cell_type": "markdown",
      "source": [
        "<a name=\"Notebook-Start\"></a>\n",
        "\n",
        "---\n",
        "\n",
        "<font size = 7> <b> PAL 1.3 (Solutions) </b> </font>\n",
        "\n",
        "---"
      ],
      "metadata": {
        "id": "ndu8iE0myMcW"
      }
    },
    {
      "cell_type": "markdown",
      "source": [
        "<font size = 5> <b> Notebook Index </b> </font>\n",
        "\n",
        "1.  [Problem 1](#Problem-1)\n",
        "\n",
        "2.  [Problem 2](#Problem-2)\n",
        "\n",
        "3.  [Problem 3](#Problem-3)\n",
        "\n",
        "4.  [Problem 4](#Problem-4)\n",
        "\n",
        "5.  [Problem 5](#Problem-5)\n",
        "$\n",
        "\\newcommand{\\parens}[1]{\\left( #1 \\right)}\n",
        "\\newcommand{\\brackets}[1]{\\left[ #1 \\right]}\n",
        "\\newcommand{\\lsum}{\\displaystyle \\sum\\limits_{i=1}^{N}}\n",
        "\\newcommand{\\parens}[1]{\\left(#1\\right)}\n",
        "\\newcommand{\\dsfrac}[2]{\\displaystyle\\frac{#1}{#2}}\n",
        "\\newcommand{\\dpfrac}[2]{\\displaystyle\\parens{\\frac{#1}{#2}}}\n",
        "\\newcommand{\\parderiv}[2]{\\dsfrac{\\partial #1}{\\partial #2}}\n",
        "\\newcommand{\\spc}{\\hspace{0.1 pc}}\n",
        "\\newcommand{\\ra}{\\Rightarrow}\n",
        "\\newcommand{\\of}[1]{{\\scriptsize (#1)}}\n",
        "\\newcommand{\\rule}{\\Huge \\hspace{-0.2 pc} \\displaystyle\\frac{\\hspace{20 pc}}{\\hspace{20 pc}}}\n",
        "\\newcommand{\\mps}{\\spc \\frac{\\textrm{m}}{\\textrm{s}}}\n",
        "\\newcommand{\\mpss}{\\spc \\frac{\\textrm{m}}{\\textrm{s}^2}}\n",
        "\\newcommand{\\twomatrixtall}[2]{\n",
        "\\left( \\begin{array}{c} #1 \\\\ #2 \\end{array} \\right)\n",
        "}\n",
        "\\newcommand{\\threematrixtall}[3]{\n",
        "\\left( \\begin{array}{c} #1 \\\\ #2 \\\\ #3 \\end{array} \\right)\n",
        "}\n",
        "\\newcommand{\\fourmatrixsquare}[4]{\n",
        "\\left( \\begin{array}{c c} #1 & #2 \\\\ #3 & #4 \\end{array} \\right)\n",
        "}\n",
        "\\newcommand{\\fourmatrixlong}[4]{\n",
        "\\left( \\begin{array}{c c c c} #1 & #2 & #3 & #4 \\end{array} \\right)\n",
        "}\n",
        "\\newcommand{\\ninematrixsquare}[9]{\n",
        "\\left( \\begin{array}{c c c} #1 & #2 & #3 \\\\ #4 & #5 & #6 \\\\ #7 & #8 & #9 \\end{array} \\right)\n",
        "}\n",
        "$"
      ],
      "metadata": {
        "id": "t8mxhUSLyRdt"
      }
    },
    {
      "cell_type": "markdown",
      "source": [
        "<a name=\"Problem-1\"></a>\n",
        "\n",
        "---\n",
        "\n",
        "<font size = 6> <b> Problem 1 </b> </font>\n",
        "\n",
        "---"
      ],
      "metadata": {
        "id": "C_Q_06ltybJO"
      }
    },
    {
      "cell_type": "markdown",
      "source": [
        "A 5.0 m long steel rod ($\\alpha_L$ = $2.3 \\times 10^{-6} \\spc \\frac{1}{\\text{K}}$) is heated from 20°C to 120°C. How much does the rod expand in length?"
      ],
      "metadata": {
        "id": "5x2R43ZOyLCJ"
      }
    },
    {
      "cell_type": "code",
      "execution_count": 13,
      "metadata": {
        "colab": {
          "base_uri": "https://localhost:8080/"
        },
        "id": "gvYlTakZx7hH",
        "outputId": "99a43447-3ed4-4ebf-bef5-82b1cbcd6615"
      },
      "outputs": [
        {
          "output_type": "stream",
          "name": "stdout",
          "text": [
            "The rod expands 0.00115 m\n"
          ]
        }
      ],
      "source": [
        "import numpy as np\n",
        "\n",
        "# a_L = 1/L_i * Delta_L / Delta_T\n",
        "\n",
        "# => Delta_L = L_i * a_L * Delta_T\n",
        "\n",
        "L_i = 5 # meters\n",
        "\n",
        "a_L = 2.3e-6 # 1/K\n",
        "\n",
        "Delta_T = 120 - 20 # degree change in Celsius (also Kelvin)\n",
        "\n",
        "Delta_L = L_i * a_L * Delta_T # meters\n",
        "\n",
        "print(\"The rod expands\", np.round(Delta_L, 10), \"m\")"
      ]
    },
    {
      "cell_type": "markdown",
      "source": [
        "[Return to Top](#Notebook-Start)"
      ],
      "metadata": {
        "id": "Llava683zlpb"
      }
    },
    {
      "cell_type": "markdown",
      "source": [
        "<a name=\"Problem-2\"></a>\n",
        "\n",
        "---\n",
        "\n",
        "<font size = 6> <b> Problem 2 </b> </font>\n",
        "\n",
        "---"
      ],
      "metadata": {
        "id": "JqBeIZLIzs1n"
      }
    },
    {
      "cell_type": "markdown",
      "source": [
        "A square metal plate (side = 1.00 m) made of copper $\\alpha_L$ = $1.6 \\times 10^{-6} \\spc \\frac{1}{\\text{K}}$) is heated from 25°C to 75°C. What is the increase in area of the plate?"
      ],
      "metadata": {
        "id": "45bKaoRtzicv"
      }
    },
    {
      "cell_type": "code",
      "source": [
        "# a_A = 1/A_i * Delta_A / Delta_T\n",
        "\n",
        "# => Delta_A = A_i * a_A * Delta_T\n",
        "\n",
        "# a_A = 2 * a_L\n",
        "\n",
        "A_i = 1 # meters^2\n",
        "\n",
        "a_L = 1.6e-6 # 1/K\n",
        "\n",
        "a_A = 2 * a_L\n",
        "\n",
        "Delta_T = 75 - 25 # degree change in Celsius (also Kelvin)\n",
        "\n",
        "Delta_A = A_i * a_A * Delta_T # meters^2\n",
        "\n",
        "print(\"The increase in area of the plate is\", np.round(Delta_A, 10), \"m^2\")"
      ],
      "metadata": {
        "colab": {
          "base_uri": "https://localhost:8080/"
        },
        "id": "WBfqz2sczTUq",
        "outputId": "953f01c1-9e83-43b4-96d0-138c9278ae48"
      },
      "execution_count": 14,
      "outputs": [
        {
          "output_type": "stream",
          "name": "stdout",
          "text": [
            "The increase in area of the plate is 0.00016 m^2\n"
          ]
        }
      ]
    },
    {
      "cell_type": "markdown",
      "source": [
        "[Return to Top](#Notebook-Start)"
      ],
      "metadata": {
        "id": "u1wFPpGQ0wgQ"
      }
    },
    {
      "cell_type": "markdown",
      "source": [
        "<a name=\"Problem-3\"></a>\n",
        "\n",
        "---\n",
        "\n",
        "<font size = 6> <b> Problem 3 </b> </font>\n",
        "\n",
        "---"
      ],
      "metadata": {
        "id": "DQ3qJyFG0z7u"
      }
    },
    {
      "cell_type": "markdown",
      "source": [
        "A 1.5 liter block of copper $\\alpha_L$ = $1.6 \\times 10^{-6} \\spc \\frac{1}{\\text{K}}$) is heated from 5°C to 85°C. What is the increase in volume of the block?"
      ],
      "metadata": {
        "id": "jU_yGTRO04h2"
      }
    },
    {
      "cell_type": "code",
      "source": [
        "# a_V = 1/V_i * Delta_V / Delta_T\n",
        "\n",
        "# => Delta_V = V_i * a_V * Delta_T\n",
        "\n",
        "# a_V = 3 * a_L\n",
        "\n",
        "V_i = 1.5 # Liters\n",
        "\n",
        "a_L = 1.6e-6 # 1/K\n",
        "\n",
        "a_V = 3 * a_L\n",
        "\n",
        "Delta_T = 85 - 5 # degree change in Celsius (also Kelvin)\n",
        "\n",
        "Delta_V = V_i * a_V * Delta_T # Liters\n",
        "\n",
        "print(\"The increase in volume of the block is\", np.round(Delta_V, 10), \"liters\")"
      ],
      "metadata": {
        "colab": {
          "base_uri": "https://localhost:8080/"
        },
        "id": "FdKxlNWk0fIt",
        "outputId": "b57a2633-0091-46d3-ce5e-861fa34138e8"
      },
      "execution_count": 16,
      "outputs": [
        {
          "output_type": "stream",
          "name": "stdout",
          "text": [
            "The increase in volume of the block is 0.000576 liters\n"
          ]
        }
      ]
    },
    {
      "cell_type": "markdown",
      "source": [
        "[Return to Top](#Notebook-Start)"
      ],
      "metadata": {
        "id": "AoEDn2vK25hE"
      }
    },
    {
      "cell_type": "markdown",
      "source": [
        "<a name=\"Problem-4\"></a>\n",
        "\n",
        "---\n",
        "\n",
        "<font size = 6> <b> Problem 4 </b> </font>\n",
        "\n",
        "---"
      ],
      "metadata": {
        "id": "pOn_MsMk3Edg"
      }
    },
    {
      "cell_type": "markdown",
      "source": [
        "<p align = 'justify'>\n",
        "A cube shaped object with side lengths of 8 meters is submerged in the fluid from (<b>Problem 3</b>). The top of the object is 2 meters below the surface.\n",
        "</p>\n",
        "\n",
        "<br>\n",
        "\n",
        "Determine the bouyancy force on the object."
      ],
      "metadata": {
        "id": "NPiBaTAh3IpZ"
      }
    },
    {
      "cell_type": "code",
      "source": [
        "# F_bouy = F_bottom - F_top\n",
        "\n",
        "# = P_bottom * A - P_top * A = (P_bottom - P_top) * A\n",
        "\n",
        "# P_bottom = P_surface + rho_0 * g * H_bottom + 0.5 * c * g * H_bottom^2\n",
        "\n",
        "# P_top = P_surface + rho_0 * g * H_top + 0.5 * c * g * H_top^2\n",
        "\n",
        "H_top = 2 # meters\n",
        "\n",
        "H_bottom = 10 # meters\n",
        "\n",
        "P_top = P_surface + rho_0_kg * g * H_top + 0.5 * c_kg * g * H_top**2\n",
        "\n",
        "P_bottom = P_surface + rho_0_kg * g * H_bottom + 0.5 * c_kg * g * H_bottom**2\n",
        "\n",
        "A = 8**2 # meters^2\n",
        "\n",
        "F_bouy = (P_bottom - P_top) * A # Newtons\n",
        "\n",
        "print(\"The bouyancy force on the object is\", np.round(F_bouy, 2), \"N\")"
      ],
      "metadata": {
        "colab": {
          "base_uri": "https://localhost:8080/"
        },
        "id": "hrAPgKwd2iLk",
        "outputId": "dd5d416b-4763-4eb7-a40a-b94563ec4068"
      },
      "execution_count": 9,
      "outputs": [
        {
          "output_type": "stream",
          "name": "stdout",
          "text": [
            "The bouyancy force on the object is 5324083.2 N\n"
          ]
        }
      ]
    },
    {
      "cell_type": "markdown",
      "source": [
        "[Return to Top](#Notebook-Start)"
      ],
      "metadata": {
        "id": "Te3TwbnI4ZAg"
      }
    },
    {
      "cell_type": "markdown",
      "source": [
        "<a name=\"Problem-5\"></a>\n",
        "\n",
        "---\n",
        "\n",
        "<font size = 6> <b> Problem 5 </b> </font>\n",
        "\n",
        "---"
      ],
      "metadata": {
        "id": "ly02C1L84bQY"
      }
    },
    {
      "cell_type": "markdown",
      "source": [
        "Liquid water has a negative coefficient of thermal expansion between $0^{o}$C and $4^{o}$C. Why might that be?"
      ],
      "metadata": {
        "id": "21mzgelS4j8F"
      }
    },
    {
      "cell_type": "markdown",
      "source": [
        "The polar nature of water molecules means that they need to arrange in a special geometry to form a solid molecular lattice. This arrangement, requires the molecules have room to rotate and lock in place, more room than the liquid molecules have near the freezing point, thus the liquid needs to expand before freezing."
      ],
      "metadata": {
        "id": "RazhDB7T8nD7"
      }
    },
    {
      "cell_type": "markdown",
      "source": [
        "[Return to Top](#Notebook-Start)\n",
        "\n",
        "---"
      ],
      "metadata": {
        "id": "tCxCaESK5QYr"
      }
    }
  ]
}
