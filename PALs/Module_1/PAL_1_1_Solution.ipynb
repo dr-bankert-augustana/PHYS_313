{
  "nbformat": 4,
  "nbformat_minor": 0,
  "metadata": {
    "colab": {
      "provenance": [],
      "authorship_tag": "ABX9TyMKoBBi7vZ50ia2hPW594yu",
      "include_colab_link": true
    },
    "kernelspec": {
      "name": "python3",
      "display_name": "Python 3"
    },
    "language_info": {
      "name": "python"
    }
  },
  "cells": [
    {
      "cell_type": "markdown",
      "metadata": {
        "id": "view-in-github",
        "colab_type": "text"
      },
      "source": [
        "<a href=\"https://colab.research.google.com/github/dr-bankert-augustana/PHYS_313/blob/main/PALs/Module_1/PAL_1_1_Solution.ipynb\" target=\"_parent\"><img src=\"https://colab.research.google.com/assets/colab-badge.svg\" alt=\"Open In Colab\"/></a>"
      ]
    },
    {
      "cell_type": "markdown",
      "source": [
        "<a name=\"Notebook-Start\"></a>\n",
        "\n",
        "---\n",
        "\n",
        "<font size = 7> <b> PAL 1.1 (Solutions) </b> </font>\n",
        "\n",
        "---"
      ],
      "metadata": {
        "id": "nFSDHkQIpnLe"
      }
    },
    {
      "cell_type": "markdown",
      "source": [
        "<font size = 5> <b> Notebook Index </b> </font>\n",
        "\n",
        "1.  [Problem 1](#Problem-1)\n",
        "\n",
        "2.  [Problem 2](#Problem-2)\n",
        "\n",
        "3.  [Problem 3](#Problem-3)\n",
        "\n",
        "4.  [Problem 4](#Problem-4)\n",
        "$\n",
        "\\newcommand{\\parens}[1]{\\left( #1 \\right)}\n",
        "\\newcommand{\\brackets}[1]{\\left[ #1 \\right]}\n",
        "\\newcommand{\\lsum}{\\displaystyle \\sum\\limits_{i=1}^{N}}\n",
        "\\newcommand{\\parens}[1]{\\left(#1\\right)}\n",
        "\\newcommand{\\dsfrac}[2]{\\displaystyle\\frac{#1}{#2}}\n",
        "\\newcommand{\\dpfrac}[2]{\\displaystyle\\parens{\\frac{#1}{#2}}}\n",
        "\\newcommand{\\parderiv}[2]{\\dsfrac{\\partial #1}{\\partial #2}}\n",
        "\\newcommand{\\spc}{\\hspace{0.1 pc}}\n",
        "\\newcommand{\\ra}{\\Rightarrow}\n",
        "\\newcommand{\\of}[1]{{\\scriptsize (#1)}}\n",
        "\\newcommand{\\rule}{\\Huge \\hspace{-0.2 pc} \\displaystyle\\frac{\\hspace{20 pc}}{\\hspace{20 pc}}}\n",
        "\\newcommand{\\mps}{\\spc \\frac{\\textrm{m}}{\\textrm{s}}}\n",
        "\\newcommand{\\mpss}{\\spc \\frac{\\textrm{m}}{\\textrm{s}^2}}\n",
        "\\newcommand{\\twomatrixtall}[2]{\n",
        "\\left( \\begin{array}{c} #1 \\\\ #2 \\end{array} \\right)\n",
        "}\n",
        "\\newcommand{\\threematrixtall}[3]{\n",
        "\\left( \\begin{array}{c} #1 \\\\ #2 \\\\ #3 \\end{array} \\right)\n",
        "}\n",
        "\\newcommand{\\fourmatrixsquare}[4]{\n",
        "\\left( \\begin{array}{c c} #1 & #2 \\\\ #3 & #4 \\end{array} \\right)\n",
        "}\n",
        "\\newcommand{\\fourmatrixlong}[4]{\n",
        "\\left( \\begin{array}{c c c c} #1 & #2 & #3 & #4 \\end{array} \\right)\n",
        "}\n",
        "\\newcommand{\\ninematrixsquare}[9]{\n",
        "\\left( \\begin{array}{c c c} #1 & #2 & #3 \\\\ #4 & #5 & #6 \\\\ #7 & #8 & #9 \\end{array} \\right)\n",
        "}\n",
        "$"
      ],
      "metadata": {
        "id": "FtXo9LKdpuGX"
      }
    },
    {
      "cell_type": "markdown",
      "source": [
        "<a name=\"Problem-1\"></a>\n",
        "\n",
        "---\n",
        "\n",
        "<font size = 6> <b> Problem 1 </b> </font>\n",
        "\n",
        "---"
      ],
      "metadata": {
        "id": "8e401g38qEFj"
      }
    },
    {
      "cell_type": "markdown",
      "source": [
        "During a certain process, the temperature of a system changes by 15 K. Find this change of temperature as measured in $^{o}$C, $^{o}$F, and R."
      ],
      "metadata": {
        "id": "yEVp-mP4qKwT"
      }
    },
    {
      "cell_type": "code",
      "execution_count": null,
      "metadata": {
        "colab": {
          "base_uri": "https://localhost:8080/"
        },
        "id": "rR_Nv-IzpliS",
        "outputId": "b610f7bc-dffa-4368-bb2c-695480fe0078"
      },
      "outputs": [
        {
          "output_type": "stream",
          "name": "stdout",
          "text": [
            "The change in temperature is 15 degrees Celcius.\n",
            "The change in temperature is 27.0 degrees Fahrenheit.\n",
            "The change in temperature is 27.0 degrees Rankine.\n"
          ]
        }
      ],
      "source": [
        "Delta_T_K = 15\n",
        "\n",
        "# The change in temperature is the same in Celcius as Kelvin\n",
        "\n",
        "Delta_T_C = Delta_T_K\n",
        "\n",
        "# The size of a degree Kelvin is 1.8 times the size of a degree Fahrenheit.\n",
        "\n",
        "Delta_T_F = 1.8 * Delta_T_K\n",
        "\n",
        "# The size of a degree Kelvin is 1.8 times the size of a degree Rankine.\n",
        "\n",
        "Delta_T_R = 1.8 * Delta_T_K\n",
        "\n",
        "print(\"The change in temperature is\", Delta_T_C, \"degrees Celcius.\")\n",
        "print(\"The change in temperature is\", Delta_T_F, \"degrees Fahrenheit.\")\n",
        "print(\"The change in temperature is\", Delta_T_R, \"degrees Rankine.\")"
      ]
    },
    {
      "cell_type": "markdown",
      "source": [
        "[Return to Top](#Notebook-Start)"
      ],
      "metadata": {
        "id": "R2cH_Ry3rFyg"
      }
    },
    {
      "cell_type": "markdown",
      "source": [
        "<a name=\"Problem-2\"></a>\n",
        "\n",
        "---\n",
        "\n",
        "<font size = 6> <b> Problem 2 </b> </font>\n",
        "\n",
        "---"
      ],
      "metadata": {
        "id": "xPzKLKxyrIok"
      }
    },
    {
      "cell_type": "markdown",
      "source": [
        "Given a fluid with a density of 0.63 g/cm$^{3}$. If the surface of the fluid is near sea-level, find the pressure at a depth of 10 meters."
      ],
      "metadata": {
        "id": "_KY58398rNdD"
      }
    },
    {
      "cell_type": "code",
      "source": [
        "# Pressure (P) at depth (h) is given by P = rho * g * h + P_atmosphere\n",
        "\n",
        "P_atmosphere = 101_325 # Pascals\n",
        "\n",
        "rho_g = 0.63 # g/cm^3\n",
        "\n",
        "rho_kg = rho_g * 1000 # kg/m^3\n",
        "\n",
        "g = 9.81 # m/s^2\n",
        "\n",
        "h = 10 # meters\n",
        "\n",
        "P = rho_kg * g * h + P_atmosphere\n",
        "\n",
        "print(\"The pressure at a depth of\", h, \"meters is\", P, \"Pascals.\")"
      ],
      "metadata": {
        "colab": {
          "base_uri": "https://localhost:8080/"
        },
        "id": "J4D_gcsBq_HU",
        "outputId": "14759536-c5bd-473c-acf8-258f1c610598"
      },
      "execution_count": null,
      "outputs": [
        {
          "output_type": "stream",
          "name": "stdout",
          "text": [
            "The pressure at a depth of 10 meters is 163128.0 Pascals.\n"
          ]
        }
      ]
    },
    {
      "cell_type": "markdown",
      "source": [
        "[Return to Top](#Notebook-Start)"
      ],
      "metadata": {
        "id": "DkNuOKE0ruQ1"
      }
    },
    {
      "cell_type": "markdown",
      "source": [
        "<a name=\"Problem-3\"></a>\n",
        "\n",
        "---\n",
        "\n",
        "<font size = 6> <b> Problem 3 </b> </font>\n",
        "\n",
        "---"
      ],
      "metadata": {
        "id": "oufvmFxHrxbX"
      }
    },
    {
      "cell_type": "markdown",
      "source": [
        "For the fluid in <b>Problem 2</b>, at what depth is the pressure twice the value at its surface?"
      ],
      "metadata": {
        "id": "4NrJ2ad0r35G"
      }
    },
    {
      "cell_type": "code",
      "source": [
        "import numpy as np\n",
        "\n",
        "# Pressure at the surface is 1 atmosphere = 101325 Pa\n",
        "\n",
        "P_surface = 101_325 # Pa\n",
        "\n",
        "# Pressure at desired depth is twice the surface pressure\n",
        "\n",
        "P_depth = 2 * P_surface\n",
        "\n",
        "# h = (P_h - P_surface) / (rho * g)\n",
        "\n",
        "h = (P_depth - P_surface) / (rho_kg * g)\n",
        "\n",
        "print(\"The pressure is doubled at a depth\", np.round(h, 2), \"meters.\")"
      ],
      "metadata": {
        "colab": {
          "base_uri": "https://localhost:8080/"
        },
        "id": "zi90VCOQrn36",
        "outputId": "5c9f4b10-44c9-41ac-c4d8-bfdb3bf9ccbf"
      },
      "execution_count": null,
      "outputs": [
        {
          "output_type": "stream",
          "name": "stdout",
          "text": [
            "The pressure is doubled at a depth 16.39 meters.\n"
          ]
        }
      ]
    },
    {
      "cell_type": "markdown",
      "source": [
        "[Return to Top](#Notebook-Start)"
      ],
      "metadata": {
        "id": "iFonqo_Yswdd"
      }
    },
    {
      "cell_type": "markdown",
      "source": [
        "<a name=\"Problem-4\"></a>\n",
        "\n",
        "---\n",
        "\n",
        "<font size = 6> <b> Problem 4 </b> </font>\n",
        "\n",
        "---"
      ],
      "metadata": {
        "id": "ex1jF8wbsyNr"
      }
    },
    {
      "cell_type": "markdown",
      "source": [
        "Again, consider the fluid from <b>Problem 1</b>. A given container of this fluid has a small hole in it (20 cm) below the fluid's surface. At what speed is the fluid exiting the small hole?"
      ],
      "metadata": {
        "id": "U6Eb6FKps4x9"
      }
    },
    {
      "cell_type": "code",
      "source": [
        "# Inside the hole, the energy per unit mass of the fluid is e = P_h / rho = (P_surface + rho * g * h) / rho\n",
        "\n",
        "# Outside the hole, the energy per unit mass of the fluid is e = (P_surface / rho + 1/2 * v^2)\n",
        "\n",
        "# => (P_surface + rho * g * h) / rho = P_surface / rho + 1/2 * v^2\n",
        "\n",
        "# => (rho * g * h) / rho = 1/2 * v^2\n",
        "\n",
        "# => v = sqrt(2 * g * h)\n",
        "\n",
        "import numpy as np\n",
        "\n",
        "h_cm = 20 # cm\n",
        "\n",
        "h_m = h_cm / 100 # meters\n",
        "\n",
        "v = np.sqrt(2 * g * h_m)\n",
        "\n",
        "print(\"The speed of the fluid from the hole is\", np.round(v, 2), \"m/s.\")"
      ],
      "metadata": {
        "colab": {
          "base_uri": "https://localhost:8080/"
        },
        "id": "g8XI1OV8sg_j",
        "outputId": "3c3e1fde-4a5d-4bf6-9eb4-4abbcba56f81"
      },
      "execution_count": null,
      "outputs": [
        {
          "output_type": "stream",
          "name": "stdout",
          "text": [
            "The speed of the fluid from the hole is 1.98 m/s.\n"
          ]
        }
      ]
    },
    {
      "cell_type": "markdown",
      "source": [
        "[Return to Top](#Notebook-Start)\n",
        "\n",
        "---"
      ],
      "metadata": {
        "id": "qRzfcleKwLXp"
      }
    }
  ]
}