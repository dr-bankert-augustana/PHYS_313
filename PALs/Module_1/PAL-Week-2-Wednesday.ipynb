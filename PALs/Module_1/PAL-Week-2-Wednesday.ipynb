{
  "nbformat": 4,
  "nbformat_minor": 0,
  "metadata": {
    "colab": {
      "provenance": [],
      "authorship_tag": "ABX9TyO0GV1BvsiVCwuTvT5VX7pz",
      "include_colab_link": true
    },
    "kernelspec": {
      "name": "python3",
      "display_name": "Python 3"
    },
    "language_info": {
      "name": "python"
    }
  },
  "cells": [
    {
      "cell_type": "markdown",
      "metadata": {
        "id": "view-in-github",
        "colab_type": "text"
      },
      "source": [
        "<a href=\"https://colab.research.google.com/github/dr-bankert-augustana/PHYS_313/blob/main/PAL.ipynb\" target=\"_parent\"><img src=\"https://colab.research.google.com/assets/colab-badge.svg\" alt=\"Open In Colab\"/></a>"
      ]
    },
    {
      "cell_type": "markdown",
      "source": [
        "<a name=\"Notebook-Start\"></a>\n",
        "\n",
        "---\n",
        "\n",
        "<font size = 7> <b> Week 2: Wednesday PAL and Reading Qs </b> </font>\n",
        "\n",
        "---"
      ],
      "metadata": {
        "id": "9xV22OLJEFNw"
      }
    },
    {
      "cell_type": "markdown",
      "source": [
        "<font size = 5> <b> Notebook Index </b> </font>\n",
        "\n",
        "1.  [Reading Questions](#Reading-Q)\n",
        "\n",
        "2.  [PAL](#PAL)\n",
        "$\n",
        "\\newcommand{\\lsum}{\\displaystyle \\sum\\limits_{i=1}^{N}}\n",
        "\\newcommand{\\parens}[1]{\\left(#1\\right)}\n",
        "\\newcommand{\\dsfrac}[2]{\\displaystyle\\frac{#1}{#2}}\n",
        "\\newcommand{\\dpfrac}[2]{\\displaystyle\\parens{\\frac{#1}{#2}}}\n",
        "\\newcommand{\\parderiv}[2]{\\dsfrac{\\partial #1}{\\partial #2}}\n",
        "\\newcommand{\\spc}{\\hspace{0.1 pc}}\n",
        "\\newcommand{\\ra}{\\Rightarrow}\n",
        "\\newcommand{\\of}[1]{{\\scriptsize (#1)}}\n",
        "\\newcommand{\\rule}{\\Huge \\hspace{-0.2 pc} \\displaystyle\\frac{\\hspace{20 pc}}{\\hspace{20 pc}}}\n",
        "\\newcommand{\\mps}{\\spc \\frac{\\textrm{m}}{\\textrm{s}}}\n",
        "\\newcommand{\\mpss}{\\spc \\frac{\\textrm{m}}{\\textrm{s}^2}}\n",
        "$"
      ],
      "metadata": {
        "id": "Ll5FHUJ7EKkg"
      }
    },
    {
      "cell_type": "markdown",
      "source": [
        "<a name=\"Reading-Q\"></a>\n",
        "\n",
        "---\n",
        "\n",
        "<font size = 6> <b> 1. Reading Questions </b> </font>\n",
        "\n",
        "---"
      ],
      "metadata": {
        "id": "U-XtyqCkHIBl"
      }
    },
    {
      "cell_type": "markdown",
      "source": [
        "<font size = 5> <b> Reading Question 1 </b> </font>\n",
        "\n",
        "Explain why gaps are left between sections of a metal bridge or railway track. What might happen if these gaps are not included?"
      ],
      "metadata": {
        "id": "yVl2CYfQENOu"
      }
    },
    {
      "cell_type": "markdown",
      "source": [
        "<b>Your Answer Here</b>"
      ],
      "metadata": {
        "id": "Ey3coP5rEVPb"
      }
    },
    {
      "cell_type": "markdown",
      "source": [
        "<center>$\\rule$</center>\n",
        "<font size = 5> <b> Reading Question 2 </b> </font>\n",
        "\n",
        "True or False? Linear expansion only depends on the material and temperature change, not on the length of the object. (Explain your answer)"
      ],
      "metadata": {
        "id": "GQBL97nMEXnX"
      }
    },
    {
      "cell_type": "markdown",
      "source": [
        "<b>Your Answer Here</b>"
      ],
      "metadata": {
        "id": "QxWjvXs2EiEx"
      }
    },
    {
      "cell_type": "markdown",
      "source": [
        "<center>$\\rule$</center>\n",
        "<font size = 5> <b> Reading Question 3 </b> </font>\n",
        "\n",
        "A brass rod and an aluminum rod of equal length are heated by the same temperature change. Which of the following is true? (Explain your answer)\n",
        "\n",
        "<ol>\n",
        "<li>The length and the volume expand at the same rate.</li>\n",
        "<li>The length expands at twice the rate of the volume.</li>\n",
        "<li>The volume expands at twice the rate of the length.</li>\n",
        "<li>The length expands at three times the rate of the volume.</li>\n",
        "<li>The volume expands at three times the rate of the length.</li>\n",
        "</ol>"
      ],
      "metadata": {
        "id": "Kp-B6p2fEjhC"
      }
    },
    {
      "cell_type": "markdown",
      "source": [
        "<b>Your Answer Here</b>"
      ],
      "metadata": {
        "id": "CxpIlHv-FMcg"
      }
    },
    {
      "cell_type": "markdown",
      "source": [
        "[Return to Top](#Notebook-Start)"
      ],
      "metadata": {
        "id": "e1HAMtoNFPxY"
      }
    },
    {
      "cell_type": "markdown",
      "source": [
        "<a name=\"PAL\"></a>\n",
        "\n",
        "---\n",
        "\n",
        "<font size = 6> <b> 2. PAL </b> </font>\n",
        "\n",
        "---"
      ],
      "metadata": {
        "id": "nbcV2oUmFSHr"
      }
    },
    {
      "cell_type": "markdown",
      "source": [
        "<font size = 5> <b> Problem 1 </b> </font>\n",
        "\n",
        "A 5.0 m long steel rod ($\\alpha_L$ = $2.3 \\times 10^{-6} \\spc \\frac{1}{\\text{K}}$) is heated from 20°C to 120°C. How much does the rod expand in length?"
      ],
      "metadata": {
        "id": "TNd1sYTgFVRH"
      }
    },
    {
      "cell_type": "code",
      "source": [
        "# Feel free to use Python to help you answer the question."
      ],
      "metadata": {
        "id": "FQPj_UBAFvnw"
      },
      "execution_count": null,
      "outputs": []
    },
    {
      "cell_type": "markdown",
      "source": [
        "<b>Your Answer Here</b>"
      ],
      "metadata": {
        "id": "meBSAQ7UFtVy"
      }
    },
    {
      "cell_type": "markdown",
      "source": [
        "<center>$\\rule$</center>\n",
        "<font size = 5> <b> Problem 2 </b> </font>\n",
        "\n",
        "A square metal plate (side = 1.00 m) made of copper $\\alpha_L$ = $1.6 \\times 10^{-6} \\spc \\frac{1}{\\text{K}}$) is heated from 25°C to 75°C. What is the increase in area of the plate?"
      ],
      "metadata": {
        "id": "0to-STROF5ZL"
      }
    },
    {
      "cell_type": "code",
      "source": [
        "# Feel free to use Python to help you answer the question."
      ],
      "metadata": {
        "id": "fGU33nLKGrhA"
      },
      "execution_count": null,
      "outputs": []
    },
    {
      "cell_type": "markdown",
      "source": [
        "<b>Your Answer Here</b>"
      ],
      "metadata": {
        "id": "i4cp-pjuGo3N"
      }
    },
    {
      "cell_type": "markdown",
      "source": [
        "<center>$\\rule$</center>\n",
        "<font size = 5> <b> Problem 3 </b> </font>\n",
        "\n",
        "A 1.5 liter block of copper $\\alpha_L$ = $1.6 \\times 10^{-6} \\spc \\frac{1}{\\text{K}}$) is heated from 5°C to 85°C. What is the increase in volume of the block?"
      ],
      "metadata": {
        "id": "kw-StIi3GQuE"
      }
    },
    {
      "cell_type": "code",
      "source": [
        "# Feel free to use Python to help you answer the question."
      ],
      "metadata": {
        "id": "Q5VeJ9gAGsTJ"
      },
      "execution_count": null,
      "outputs": []
    },
    {
      "cell_type": "markdown",
      "source": [
        "<b>Your Answer Here</b>"
      ],
      "metadata": {
        "id": "0sHO5T63GppT"
      }
    },
    {
      "cell_type": "markdown",
      "source": [
        "<center>$\\rule$</center>\n",
        "<font size = 5> <b> Problem 4 </b> </font>\n",
        "\n",
        "Liquid water has a negative coefficient of thermal expansion between $0^{o}$C and $4^{o}$C. Why might that be?"
      ],
      "metadata": {
        "id": "7i2lxeUFGxiI"
      }
    },
    {
      "cell_type": "markdown",
      "source": [
        "<b>Your Answer Here</b>"
      ],
      "metadata": {
        "id": "C6LpkArwHBUB"
      }
    },
    {
      "cell_type": "code",
      "execution_count": null,
      "metadata": {
        "id": "t7oXPhRpEEd1"
      },
      "outputs": [],
      "source": []
    }
  ]
}
