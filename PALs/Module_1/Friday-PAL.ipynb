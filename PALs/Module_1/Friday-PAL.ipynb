{
  "nbformat": 4,
  "nbformat_minor": 0,
  "metadata": {
    "colab": {
      "provenance": [],
      "authorship_tag": "ABX9TyPulAy+/bNuW5R1cD63ZBIF",
      "include_colab_link": true
    },
    "kernelspec": {
      "name": "python3",
      "display_name": "Python 3"
    },
    "language_info": {
      "name": "python"
    }
  },
  "cells": [
    {
      "cell_type": "markdown",
      "metadata": {
        "id": "view-in-github",
        "colab_type": "text"
      },
      "source": [
        "<a href=\"https://colab.research.google.com/github/dr-bankert-augustana/PHYS_313/blob/main/Untitled7.ipynb\" target=\"_parent\"><img src=\"https://colab.research.google.com/assets/colab-badge.svg\" alt=\"Open In Colab\"/></a>"
      ]
    },
    {
      "cell_type": "markdown",
      "source": [
        "<a name=\"Notebook-Start\"></a>\n",
        "\n",
        "---\n",
        "\n",
        "<font size = 7> <b> Week 1: Friday PAL and Reading Qs </b> </font>\n",
        "\n",
        "---"
      ],
      "metadata": {
        "id": "NeK9WSQbSjN3"
      }
    },
    {
      "cell_type": "markdown",
      "source": [
        "<font size = 5> <b> Notebook Index </b> </font>\n",
        "\n",
        "1.  [Reading Questions](#Reading-Q)\n",
        "\n",
        "2.  [PAL](#PAL)\n",
        "$\n",
        "\\newcommand{\\lsum}{\\displaystyle \\sum\\limits_{i=1}^{N}}\n",
        "\\newcommand{\\parens}[1]{\\left(#1\\right)}\n",
        "\\newcommand{\\dsfrac}[2]{\\displaystyle\\frac{#1}{#2}}\n",
        "\\newcommand{\\dpfrac}[2]{\\displaystyle\\parens{\\frac{#1}{#2}}}\n",
        "\\newcommand{\\parderiv}[2]{\\dsfrac{\\partial #1}{\\partial #2}}\n",
        "\\newcommand{\\spc}{\\hspace{0.1 pc}}\n",
        "\\newcommand{\\ra}{\\Rightarrow}\n",
        "\\newcommand{\\of}[1]{{\\scriptsize (#1)}}\n",
        "\\newcommand{\\rule}{\\Huge \\hspace{-0.2 pc} \\displaystyle\\frac{\\hspace{20 pc}}{\\hspace{20 pc}}}\n",
        "\\newcommand{\\mps}{\\spc \\frac{\\textrm{m}}{\\textrm{s}}}\n",
        "\\newcommand{\\mpss}{\\spc \\frac{\\textrm{m}}{\\textrm{s}^2}}\n",
        "$"
      ],
      "metadata": {
        "id": "8MwAOUFdS63y"
      }
    },
    {
      "cell_type": "markdown",
      "source": [
        "<a name=\"Reading-Q\"></a>\n",
        "\n",
        "---\n",
        "\n",
        "<font size = 6> <b> 1. Reading Questions </b> </font>\n",
        "\n",
        "---"
      ],
      "metadata": {
        "id": "AU2ENPluTLot"
      }
    },
    {
      "cell_type": "markdown",
      "source": [
        "<font size = 5> <b> Reading Question 1 </b> </font>\n",
        "\n",
        "In your own words, what is the difference between open, closed, and isolated systems?"
      ],
      "metadata": {
        "id": "sTOnwVWvTYhm"
      }
    },
    {
      "cell_type": "markdown",
      "source": [
        "<b>Your Answer Here</b>"
      ],
      "metadata": {
        "id": "koBfVmEOTk3W"
      }
    },
    {
      "cell_type": "markdown",
      "source": [
        "<center>$\\rule$</center>\n",
        "<font size = 5> <b> Reading Question 2 </b> </font>\n",
        "\n",
        "In your own words, describe Pascal's Law."
      ],
      "metadata": {
        "id": "msBMolo_TpB8"
      }
    },
    {
      "cell_type": "markdown",
      "source": [
        "<b>Your Answer Here</b>"
      ],
      "metadata": {
        "id": "dDubKcvlT62s"
      }
    },
    {
      "cell_type": "markdown",
      "source": [
        "<center>$\\rule$</center>\n",
        "<font size = 5> <b> Reading Question 3 </b> </font>\n",
        "\n",
        "Why can't the absolute gas temperature scale be used at extreme (very high or very low) temperatures?"
      ],
      "metadata": {
        "id": "Cc7Cx0xUT9l3"
      }
    },
    {
      "cell_type": "markdown",
      "source": [
        "<b>Your Answer Here</b>"
      ],
      "metadata": {
        "id": "iyHVbBqjULAP"
      }
    },
    {
      "cell_type": "markdown",
      "source": [
        "[Return to Top](#Notebook-Start)"
      ],
      "metadata": {
        "id": "T-hGQFaAWBSE"
      }
    },
    {
      "cell_type": "markdown",
      "source": [
        "<a name=\"PAL\"></a>\n",
        "\n",
        "---\n",
        "\n",
        "<font size = 6> <b> 2. PAL </b> </font>\n",
        "\n",
        "---"
      ],
      "metadata": {
        "id": "DrTdwMcsUOfu"
      }
    },
    {
      "cell_type": "markdown",
      "source": [
        "<font size = 5> <b> Problem 1 </b> </font>\n",
        "\n",
        "During a certain process, the temperature of a system changes by 15 K. Find this change of temperature as measured in $^{o}$C, $^{o}$F, and R."
      ],
      "metadata": {
        "id": "_lvS9_scUTY9"
      }
    },
    {
      "cell_type": "markdown",
      "source": [
        "<b>Your Answer Here</b>"
      ],
      "metadata": {
        "id": "XSzzFl7yUn-v"
      }
    },
    {
      "cell_type": "markdown",
      "source": [
        "<center>$\\rule$</center>\n",
        "<font size = 5> <b> Problem 2 </b> </font>\n",
        "\n",
        "Given a fluid with a density of 0.63 g/cm$^{3}$. If the surface of the fluid is near sea-level, find the pressure at a depth of 10 meters."
      ],
      "metadata": {
        "id": "1KdJ2-gJUtqA"
      }
    },
    {
      "cell_type": "markdown",
      "source": [
        "<b>Your Answer Here</b>"
      ],
      "metadata": {
        "id": "pYIvKyLAVI6t"
      }
    },
    {
      "cell_type": "markdown",
      "source": [
        "<center>$\\rule$</center>\n",
        "<font size = 5> <b> Problem 3 </b> </font>\n",
        "\n",
        "For the fluid in <b>Problem 2</b>, at what depth is the pressure twice the value at its surface?"
      ],
      "metadata": {
        "id": "alt2gjfjVLqg"
      }
    },
    {
      "cell_type": "markdown",
      "source": [
        "<b>Your Answer Here</b>"
      ],
      "metadata": {
        "id": "oOcr4_CdV5XI"
      }
    },
    {
      "cell_type": "markdown",
      "source": [
        "<center>$\\rule$</center>\n",
        "<font size = 5> <b> Problem 4 </b> </font>\n",
        "\n",
        "Again, consider the fluid from <b>Problem 1</b>. A given container of this fluid has a small hole in it (20 cm) below the fluid's surface. At what speed is the fluid exiting the small hole?"
      ],
      "metadata": {
        "id": "DisZuXWdVggZ"
      }
    },
    {
      "cell_type": "markdown",
      "source": [
        "<b>Your Answer Here</b>"
      ],
      "metadata": {
        "id": "SzfNZR7PV66Z"
      }
    },
    {
      "cell_type": "markdown",
      "source": [
        "[Return to Top](#Notebook-Start)\n",
        "\n",
        "---"
      ],
      "metadata": {
        "id": "TWWdpj9hWCLo"
      }
    }
  ]
}
