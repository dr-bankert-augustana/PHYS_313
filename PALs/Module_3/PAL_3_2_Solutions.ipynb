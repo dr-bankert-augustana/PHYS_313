{
  "nbformat": 4,
  "nbformat_minor": 0,
  "metadata": {
    "colab": {
      "provenance": [],
      "authorship_tag": "ABX9TyN4EJ2so074ki0dugJrJqcQ",
      "include_colab_link": true
    },
    "kernelspec": {
      "name": "python3",
      "display_name": "Python 3"
    },
    "language_info": {
      "name": "python"
    }
  },
  "cells": [
    {
      "cell_type": "markdown",
      "metadata": {
        "id": "view-in-github",
        "colab_type": "text"
      },
      "source": [
        "<a href=\"https://colab.research.google.com/github/dr-bankert-augustana/PHYS_313/blob/main/PAL_3_2_Solutions.ipynb\" target=\"_parent\"><img src=\"https://colab.research.google.com/assets/colab-badge.svg\" alt=\"Open In Colab\"/></a>"
      ]
    },
    {
      "cell_type": "markdown",
      "source": [
        "<a name=\"Notebook-Start\"></a>\n",
        "\n",
        "---\n",
        "\n",
        "<font size = 7> <b> PAL 3.2 (Solutions) </b> </font>\n",
        "\n",
        "---"
      ],
      "metadata": {
        "id": "Km4PXMpEPCoo"
      }
    },
    {
      "cell_type": "markdown",
      "source": [
        "<font size = 5> <b> Notebook Index </b> </font>\n",
        "\n",
        "1.  [Problem 1](#Problem-1)\n",
        "\n",
        "2.  [Problem 2](#Problem-2)\n",
        "$\n",
        "\\newcommand{\\parens}[1]{\\left( #1 \\right)}\n",
        "\\newcommand{\\brackets}[1]{\\left[ #1 \\right]}\n",
        "\\newcommand{\\lsum}{\\displaystyle \\sum\\limits_{i=1}^{N}}\n",
        "\\newcommand{\\parens}[1]{\\left(#1\\right)}\n",
        "\\newcommand{\\dsfrac}[2]{\\displaystyle\\frac{#1}{#2}}\n",
        "\\newcommand{\\dpfrac}[2]{\\displaystyle\\parens{\\frac{#1}{#2}}}\n",
        "\\newcommand{\\parderiv}[2]{\\dsfrac{\\partial #1}{\\partial #2}}\n",
        "\\newcommand{\\spc}{\\hspace{0.1 pc}}\n",
        "\\newcommand{\\ra}{\\Rightarrow}\n",
        "\\newcommand{\\of}[1]{{\\scriptsize (#1)}}\n",
        "\\newcommand{\\rule}{\\Huge \\hspace{-0.2 pc} \\displaystyle\\frac{\\hspace{20 pc}}{\\hspace{20 pc}}}\n",
        "\\newcommand{\\mps}{\\spc \\frac{\\textrm{m}}{\\textrm{s}}}\n",
        "\\newcommand{\\mpss}{\\spc \\frac{\\textrm{m}}{\\textrm{s}^2}}\n",
        "\\newcommand{\\twomatrixtall}[2]{\n",
        "\\left( \\begin{array}{c} #1 \\\\ #2 \\end{array} \\right)\n",
        "}\n",
        "\\newcommand{\\threematrixtall}[3]{\n",
        "\\left( \\begin{array}{c} #1 \\\\ #2 \\\\ #3 \\end{array} \\right)\n",
        "}\n",
        "\\newcommand{\\fourmatrixsquare}[4]{\n",
        "\\left( \\begin{array}{c c} #1 & #2 \\\\ #3 & #4 \\end{array} \\right)\n",
        "}\n",
        "\\newcommand{\\fourmatrixlong}[4]{\n",
        "\\left( \\begin{array}{c c c c} #1 & #2 & #3 & #4 \\end{array} \\right)\n",
        "}\n",
        "\\newcommand{\\ninematrixsquare}[9]{\n",
        "\\left( \\begin{array}{c c c} #1 & #2 & #3 \\\\ #4 & #5 & #6 \\\\ #7 & #8 & #9 \\end{array} \\right)\n",
        "}\n",
        "$"
      ],
      "metadata": {
        "id": "snojKmHxPIbf"
      }
    },
    {
      "cell_type": "markdown",
      "source": [
        "<a name=\"Problem-1\"></a>\n",
        "\n",
        "---\n",
        "\n",
        "<font size = 6> <b> Problem 1 </b> </font>\n",
        "\n",
        "---"
      ],
      "metadata": {
        "id": "-hXMlnitPPJg"
      }
    },
    {
      "cell_type": "markdown",
      "source": [
        "<font size = 5> <b> Problem 1 </b> </font>\n",
        "\n",
        "A resevoir of still water feeds a turbine-generator through a shaft (100 m) below the intake. The flow speed of the water at the outlet is (40 m/s) and the flow rate is (1000 kg/s). The turbine is connected to a generator that is producing (150 kW) of power at an efficiency of (0.9). What is the efficiency of the turbine? (Assume the intake and outlet are both near their respective water surfaces.)"
      ],
      "metadata": {
        "id": "q8wBz5KPPSy-"
      }
    },
    {
      "cell_type": "code",
      "execution_count": 16,
      "metadata": {
        "colab": {
          "base_uri": "https://localhost:8080/"
        },
        "id": "XNYw8N80O_X1",
        "outputId": "89279e1d-ec15-4b1d-a056-9d16c5b123a0"
      },
      "outputs": [
        {
          "output_type": "stream",
          "name": "stdout",
          "text": [
            "The efficiency of the turbine is:  0.926\n"
          ]
        }
      ],
      "source": [
        "##=============================================================================================##\n",
        "## Import Libraries:                                                                           ##\n",
        "##=============================================================================================##\n",
        "\n",
        "import numpy as np\n",
        "\n",
        "##=============================================================================================##\n",
        "## Set the constant values:                                                                    ##\n",
        "##=============================================================================================##\n",
        "\n",
        "# Shaft Height:\n",
        "\n",
        "h = 100 # m\n",
        "\n",
        "# Intake Velocity:\n",
        "\n",
        "v_in = 0 # m/s\n",
        "\n",
        "# Outlet Velocity:\n",
        "\n",
        "v_out = 40 # m/s\n",
        "\n",
        "# Water Flow Rate:\n",
        "\n",
        "r_water = 1000 # kg/s\n",
        "\n",
        "# Local Acceleration Due to Gravity:\n",
        "\n",
        "g = 9.8 # m/s^2\n",
        "\n",
        "# Generator Power Output:\n",
        "\n",
        "P_generator = 150_000 # W\n",
        "\n",
        "# Generator Efficiency:\n",
        "\n",
        "eta_generator = 0.9\n",
        "\n",
        "##=============================================================================================##\n",
        "## Calculate the Power Transferred to the Turbine:                                             ##\n",
        "##=============================================================================================##\n",
        "\n",
        "# Per-Mass Energy of Water (Before Turbine)\n",
        "\n",
        "e_water_i = g * h + 0.5 * v_in**2\n",
        "\n",
        "# Per-Mass Energy of Water (After Turbine)\n",
        "\n",
        "e_water_f = 0.5 * v_out**2\n",
        "\n",
        "# Work Transferred to Turbine:\n",
        "\n",
        "work_per_mass = e_water_i - e_water_f\n",
        "\n",
        "# Power Transferred to Turbine:\n",
        "\n",
        "P_to_turbine = work_per_mass * r_water\n",
        "\n",
        "##=============================================================================================##\n",
        "## Calculate the Efficiency of the Turbine:                                                    ##\n",
        "##=============================================================================================##\n",
        "\n",
        "# Calculate the Power Delivered to the Generator:\n",
        "\n",
        "P_to_generator = P_generator / eta_generator\n",
        "\n",
        "# Calculate the Efficiency of the Turbine:\n",
        "\n",
        "eta_generator = P_to_generator / P_to_turbine\n",
        "\n",
        "print(\"The efficiency of the turbine is: \", np.round(eta_generator, 3))"
      ]
    },
    {
      "cell_type": "markdown",
      "source": [
        "[Return to Top](#Notebook-Start)"
      ],
      "metadata": {
        "id": "r9NoVlrgTtQb"
      }
    },
    {
      "cell_type": "markdown",
      "source": [
        "<a name=\"Problem-2\"></a>\n",
        "\n",
        "---\n",
        "\n",
        "<font size = 6> <b> Problem 2 </b> </font>\n",
        "\n",
        "---"
      ],
      "metadata": {
        "id": "MwAGbFpnTvvO"
      }
    },
    {
      "cell_type": "markdown",
      "source": [
        "Given the same setup as above, the intake is now placed at (10 m) below the surface of the water (90 m) above the turbine. What is the new power output of the electric generator? (Assume all other values stay the same.)"
      ],
      "metadata": {
        "id": "58-1b3vJTqHY"
      }
    },
    {
      "cell_type": "code",
      "source": [
        "##=============================================================================================##\n",
        "## Set the constant values:                                                                    ##\n",
        "##=============================================================================================##\n",
        "\n",
        "# Shaft Height:\n",
        "\n",
        "h = 90 # m\n",
        "\n",
        "# Intake Depth:\n",
        "\n",
        "d = 10 # m\n",
        "\n",
        "# Intake Velocity:\n",
        "\n",
        "v_in = 0 # m/s\n",
        "\n",
        "# Outlet Velocity:\n",
        "\n",
        "v_out = 40 # m/s\n",
        "\n",
        "# Water Flow Rate:\n",
        "\n",
        "r_water = 1000 # kg/s\n",
        "\n",
        "# Local Acceleration Due to Gravity:\n",
        "\n",
        "g = 9.8 # m/s^2\n",
        "\n",
        "# Generator Power Output:\n",
        "\n",
        "P_generator = 150_000 # W\n",
        "\n",
        "# Generator Efficiency:\n",
        "\n",
        "eta_generator = 0.9\n",
        "\n",
        "##=============================================================================================##\n",
        "## Calculate the Power Transferred to the Turbine:                                             ##\n",
        "##=============================================================================================##\n",
        "\n",
        "# Pressure (Per Unit Density) at Intake Depth:\n",
        "\n",
        "p_intake = g * d # Pa / (kg / m^3)\n",
        "\n",
        "# Per-Mass Energy of Water (Before Turbine)\n",
        "\n",
        "e_water_i = p_intake + g * h + 0.5 * v_in**2\n",
        "\n",
        "# Per-Mass Energy of Water (After Turbine)\n",
        "\n",
        "e_water_f = 0.5 * v_out**2\n",
        "\n",
        "# Work Transferred to Turbine:\n",
        "\n",
        "work_per_mass = e_water_i - e_water_f\n",
        "\n",
        "# Power Transferred to Turbine:\n",
        "\n",
        "P_to_turbine = work_per_mass * r_water\n",
        "\n",
        "##=============================================================================================##\n",
        "## Calculate the Efficiency of the Turbine:                                                    ##\n",
        "##=============================================================================================##\n",
        "\n",
        "# Calculate the Power Delivered to the Generator:\n",
        "\n",
        "P_to_generator = P_generator / eta_generator\n",
        "\n",
        "# Calculate the Efficiency of the Turbine:\n",
        "\n",
        "eta_generator = P_to_generator / P_to_turbine\n",
        "\n",
        "print(\"The efficiency of the turbine is: \", np.round(eta_generator, 3))"
      ],
      "metadata": {
        "colab": {
          "base_uri": "https://localhost:8080/"
        },
        "id": "ZmdV-wOpQ7Ss",
        "outputId": "68d94589-157f-4490-e820-902c1454f00f"
      },
      "execution_count": 17,
      "outputs": [
        {
          "output_type": "stream",
          "name": "stdout",
          "text": [
            "The efficiency of the turbine is:  0.926\n"
          ]
        }
      ]
    },
    {
      "cell_type": "code",
      "source": [],
      "metadata": {
        "id": "md2PRinRYeBA"
      },
      "execution_count": null,
      "outputs": []
    }
  ]
}
