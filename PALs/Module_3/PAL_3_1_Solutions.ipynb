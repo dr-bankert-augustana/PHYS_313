{
  "nbformat": 4,
  "nbformat_minor": 0,
  "metadata": {
    "colab": {
      "provenance": [],
      "authorship_tag": "ABX9TyMCIFaH+woGxYD0IPHjtSTA",
      "include_colab_link": true
    },
    "kernelspec": {
      "name": "python3",
      "display_name": "Python 3"
    },
    "language_info": {
      "name": "python"
    }
  },
  "cells": [
    {
      "cell_type": "markdown",
      "metadata": {
        "id": "view-in-github",
        "colab_type": "text"
      },
      "source": [
        "<a href=\"https://colab.research.google.com/github/dr-bankert-augustana/PHYS_313/blob/main/PALs/Module_3/PAL_3_1_Solutions.ipynb\" target=\"_parent\"><img src=\"https://colab.research.google.com/assets/colab-badge.svg\" alt=\"Open In Colab\"/></a>"
      ]
    },
    {
      "cell_type": "markdown",
      "source": [
        "<a name=\"Notebook-Start\"></a>\n",
        "\n",
        "---\n",
        "\n",
        "<font size = 7> <b> PAL 3.1 (Solutions) </b> </font>\n",
        "\n",
        "---"
      ],
      "metadata": {
        "id": "Km4PXMpEPCoo"
      }
    },
    {
      "cell_type": "markdown",
      "source": [
        "<font size = 5> <b> Notebook Index </b> </font>\n",
        "\n",
        "1.  [Problem 1](#Problem-1)\n",
        "\n",
        "2.  [Problem 2](#Problem-2)\n",
        "\n",
        "3.  [Problem 3](#Problem-3)\n",
        "$\n",
        "\\newcommand{\\parens}[1]{\\left( #1 \\right)}\n",
        "\\newcommand{\\brackets}[1]{\\left[ #1 \\right]}\n",
        "\\newcommand{\\lsum}{\\displaystyle \\sum\\limits_{i=1}^{N}}\n",
        "\\newcommand{\\parens}[1]{\\left(#1\\right)}\n",
        "\\newcommand{\\dsfrac}[2]{\\displaystyle\\frac{#1}{#2}}\n",
        "\\newcommand{\\dpfrac}[2]{\\displaystyle\\parens{\\frac{#1}{#2}}}\n",
        "\\newcommand{\\parderiv}[2]{\\dsfrac{\\partial #1}{\\partial #2}}\n",
        "\\newcommand{\\spc}{\\hspace{0.1 pc}}\n",
        "\\newcommand{\\ra}{\\Rightarrow}\n",
        "\\newcommand{\\of}[1]{{\\scriptsize (#1)}}\n",
        "\\newcommand{\\rule}{\\Huge \\hspace{-0.2 pc} \\displaystyle\\frac{\\hspace{20 pc}}{\\hspace{20 pc}}}\n",
        "\\newcommand{\\mps}{\\spc \\frac{\\textrm{m}}{\\textrm{s}}}\n",
        "\\newcommand{\\mpss}{\\spc \\frac{\\textrm{m}}{\\textrm{s}^2}}\n",
        "\\newcommand{\\twomatrixtall}[2]{\n",
        "\\left( \\begin{array}{c} #1 \\\\ #2 \\end{array} \\right)\n",
        "}\n",
        "\\newcommand{\\threematrixtall}[3]{\n",
        "\\left( \\begin{array}{c} #1 \\\\ #2 \\\\ #3 \\end{array} \\right)\n",
        "}\n",
        "\\newcommand{\\fourmatrixsquare}[4]{\n",
        "\\left( \\begin{array}{c c} #1 & #2 \\\\ #3 & #4 \\end{array} \\right)\n",
        "}\n",
        "\\newcommand{\\fourmatrixlong}[4]{\n",
        "\\left( \\begin{array}{c c c c} #1 & #2 & #3 & #4 \\end{array} \\right)\n",
        "}\n",
        "\\newcommand{\\ninematrixsquare}[9]{\n",
        "\\left( \\begin{array}{c c c} #1 & #2 & #3 \\\\ #4 & #5 & #6 \\\\ #7 & #8 & #9 \\end{array} \\right)\n",
        "}\n",
        "$"
      ],
      "metadata": {
        "id": "snojKmHxPIbf"
      }
    },
    {
      "cell_type": "markdown",
      "source": [
        "<a name=\"Problem-1\"></a>\n",
        "\n",
        "---\n",
        "\n",
        "<font size = 6> <b> Problem 1 </b> </font>\n",
        "\n",
        "---"
      ],
      "metadata": {
        "id": "-hXMlnitPPJg"
      }
    },
    {
      "cell_type": "markdown",
      "source": [
        "How much work is required to bring a (5000 kg) object that has a volume of (3 m$^3$) from (100 m) below the surface of water to the surface?"
      ],
      "metadata": {
        "id": "q8wBz5KPPSy-"
      }
    },
    {
      "cell_type": "code",
      "execution_count": null,
      "metadata": {
        "colab": {
          "base_uri": "https://localhost:8080/"
        },
        "id": "XNYw8N80O_X1",
        "outputId": "bf8ec738-6304-406d-e3d4-4f3e6198858a"
      },
      "outputs": [
        {
          "output_type": "stream",
          "name": "stdout",
          "text": [
            "The work done is:  1960000.0 J\n"
          ]
        }
      ],
      "source": [
        "import numpy as np\n",
        "\n",
        "# Set the constant values:\n",
        "\n",
        "m_obj = 5000 # kg (object mass)\n",
        "\n",
        "V_obj = 3 # m^3 (object volume)\n",
        "\n",
        "h = 100 # m (object initial depth)\n",
        "\n",
        "rho_w = 1000 # kg / m^3 (density of water)\n",
        "\n",
        "g = 9.8 # m/s^2 (local acceleration due to gravity)\n",
        "\n",
        "# Calculate the force of gravity on the object:\n",
        "\n",
        "Fg = - m_obj * g # minus sign because force is down\n",
        "\n",
        "# Calculate the force of bouyancy on the object:\n",
        "\n",
        "Fb = rho_w * V_obj * g # positive because force is up\n",
        "\n",
        "# Calculate the net force on the object:\n",
        "\n",
        "Fnet = Fg + Fb\n",
        "\n",
        "# Calculate the work done:\n",
        "\n",
        "work = - Fnet * h # negative sign because you need to overcome the net force in order to bring it up.\n",
        "\n",
        "print(\"The work done is: \", np.round(work), \"J\")"
      ]
    },
    {
      "cell_type": "markdown",
      "source": [
        "[Return to Top](#Notebook-Start)"
      ],
      "metadata": {
        "id": "r9NoVlrgTtQb"
      }
    },
    {
      "cell_type": "markdown",
      "source": [
        "<a name=\"Problem-2\"></a>\n",
        "\n",
        "---\n",
        "\n",
        "<font size = 6> <b> Problem 2 </b> </font>\n",
        "\n",
        "---"
      ],
      "metadata": {
        "id": "MwAGbFpnTvvO"
      }
    },
    {
      "cell_type": "markdown",
      "source": [
        "Water is pumped from a lower reservoir to a higher reservoir by a pump that provides (20 kW) of shaft power. The free surface of the upper reservoir is 45 m higher than that of the lower reservoir. If the flow rate of water is measured to be 0.03 kg/s, determine mechanical power that is converted to thermal energy during this process due to frictional effects.\n",
        "\n",
        "><b>Note:</b> A typo in the original prompt had the flow rate units in m$^3$/s."
      ],
      "metadata": {
        "id": "58-1b3vJTqHY"
      }
    },
    {
      "cell_type": "code",
      "source": [
        "# Set the constant values:\n",
        "\n",
        "P_shaft = 20 # kW (shaft power)\n",
        "\n",
        "h = 45 # m (shaft height)\n",
        "\n",
        "r_flow = 0.03 # kg/s (mass flow rate)\n",
        "\n",
        "# Calculate the per-mass-work needed to raise the water:\n",
        "\n",
        "work_per_mass = g * h\n",
        "\n",
        "# Calculate the power needed to raise the water:\n",
        "\n",
        "P_needed = work_per_mass * r_flow\n",
        "\n",
        "# Calculate the power converted to thermal energy:\n",
        "\n",
        "P_thermal = P_shaft - P_needed\n",
        "\n",
        "print(\"The power converted to thermal energy is: \", np.round(P_thermal), \"kW\")"
      ],
      "metadata": {
        "colab": {
          "base_uri": "https://localhost:8080/"
        },
        "id": "ZmdV-wOpQ7Ss",
        "outputId": "d9b508f4-ce53-4c82-94af-39e417331ed3"
      },
      "execution_count": null,
      "outputs": [
        {
          "output_type": "stream",
          "name": "stdout",
          "text": [
            "The power converted to thermal energy is:  7.0 kW\n"
          ]
        }
      ]
    },
    {
      "cell_type": "markdown",
      "source": [
        "<a name=\"Problem-3\"></a>\n",
        "\n",
        "---\n",
        "\n",
        "<font size = 6> <b> Problem 3 </b> </font>\n",
        "\n",
        "---"
      ],
      "metadata": {
        "id": "_NsZ-zCIYiUJ"
      }
    },
    {
      "cell_type": "markdown",
      "source": [
        "Consider a room that is initially at the outdoor temperature of 20 degrees C. The room contains a 40 W lightbulb, a 110 W TV set, a 300 W refrigerator, and a 1200 W iron. Assuming no heat transfer through the walls, determine the\n",
        "rate of increase of the energy content of the room when all of these electric devices are on."
      ],
      "metadata": {
        "id": "D-85L5CYXWkw"
      }
    },
    {
      "cell_type": "code",
      "source": [
        "# Set the constants:\n",
        "\n",
        "P_lightbulb = 40 # W (lightbulb power)\n",
        "\n",
        "P_TV = 110 # W (TV power)\n",
        "\n",
        "P_refrigerator = 300 # W (refrigerator power)\n",
        "\n",
        "P_iron = 1200 # W (iron power)\n",
        "\n",
        "# Calculate the total rate of energy increase:\n",
        "\n",
        "P_total = P_lightbulb + P_TV + P_refrigerator + P_iron\n",
        "\n",
        "print(\"The total rate of energy increase is: \", np.round(P_total), \"W\")"
      ],
      "metadata": {
        "colab": {
          "base_uri": "https://localhost:8080/"
        },
        "id": "VAvzKiDHUZg2",
        "outputId": "a4bd2106-2dda-4b05-db62-b1aae325313b"
      },
      "execution_count": null,
      "outputs": [
        {
          "output_type": "stream",
          "name": "stdout",
          "text": [
            "The total rate of energy increase is:  1650 W\n"
          ]
        }
      ]
    },
    {
      "cell_type": "code",
      "source": [],
      "metadata": {
        "id": "md2PRinRYeBA"
      },
      "execution_count": null,
      "outputs": []
    }
  ]
}