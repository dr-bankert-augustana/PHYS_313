{
  "nbformat": 4,
  "nbformat_minor": 0,
  "metadata": {
    "colab": {
      "provenance": [],
      "authorship_tag": "ABX9TyNWUMC4OJ2UihyL9+31Gmfb",
      "include_colab_link": true
    },
    "kernelspec": {
      "name": "python3",
      "display_name": "Python 3"
    },
    "language_info": {
      "name": "python"
    }
  },
  "cells": [
    {
      "cell_type": "markdown",
      "metadata": {
        "id": "view-in-github",
        "colab_type": "text"
      },
      "source": [
        "<a href=\"https://colab.research.google.com/github/dr-bankert-augustana/PHYS_313/blob/main/Homework_2.ipynb\" target=\"_parent\"><img src=\"https://colab.research.google.com/assets/colab-badge.svg\" alt=\"Open In Colab\"/></a>"
      ]
    },
    {
      "cell_type": "markdown",
      "source": [
        "<a name=\"Notebook-Start\"></a>\n",
        "\n",
        "---\n",
        "\n",
        "<font size = 7> <b> PHYS 313 Homework 2 </b> </font>\n",
        "\n",
        "---"
      ],
      "metadata": {
        "id": "1C86iOeMDJ2w"
      }
    },
    {
      "cell_type": "markdown",
      "source": [
        "<font size = 5> <b> Notebook Index </b> </font>\n",
        "\n",
        "1. [Problem 1](#Problem-1)\n",
        "\n",
        "2. [Problem 2](#Problem-2)\n",
        "\n",
        "3. [Problem 3](#Problem-3)\n",
        "\n",
        "4. [Problem 4](#Problem-4)\n",
        "\n",
        "5. [Problem 5](#Problem-5)\n",
        "$\n",
        "\\newcommand{\\lsum}{\\displaystyle \\sum\\limits_{i=1}^{N}}\n",
        "\\newcommand{\\parens}[1]{\\left(#1\\right)}\n",
        "\\newcommand{\\dsfrac}[2]{\\displaystyle\\frac{#1}{#2}}\n",
        "\\newcommand{\\dpfrac}[2]{\\displaystyle\\parens{\\frac{#1}{#2}}}\n",
        "\\newcommand{\\parderiv}[2]{\\dsfrac{\\partial #1}{\\partial #2}}\n",
        "\\newcommand{\\spc}{\\hspace{0.1 pc}}\n",
        "\\newcommand{\\ra}{\\Rightarrow}\n",
        "\\newcommand{\\of}[1]{{\\scriptsize (#1)}}\n",
        "\\newcommand{\\rule}{\\Huge \\hspace{-0.2 pc} \\displaystyle\\frac{\\hspace{20 pc}}{\\hspace{20 pc}}}\n",
        "\\newcommand{\\mps}{\\spc \\frac{\\textrm{m}}{\\textrm{s}}}\n",
        "\\newcommand{\\mpss}{\\spc \\frac{\\textrm{m}}{\\textrm{s}^2}}\n",
        "$"
      ],
      "metadata": {
        "id": "g65BTMxCDOg1"
      }
    },
    {
      "cell_type": "markdown",
      "source": [
        "<a name=\"Problem-1\"></a>\n",
        "\n",
        "---\n",
        "\n",
        "<font size = 6> <b> Problem 1 </b> </font>\n",
        "\n",
        "---"
      ],
      "metadata": {
        "id": "psk_0XBpDSku"
      }
    },
    {
      "cell_type": "markdown",
      "source": [
        "A (65 W) fan is built into a square airduct with a side length of (0.3 m). The fan needs to produce an airspeed of (5 m/s) at the outlet vent, which is (10 m) above the fan. How much (above atmosphere) does the fan need to raise the air pressure to achieve this? (air density = 1.2 kg/m$^3$)"
      ],
      "metadata": {
        "id": "P9YYyGj6DTX9"
      }
    },
    {
      "cell_type": "code",
      "execution_count": 1,
      "metadata": {
        "id": "aZMSSEPCDBdi"
      },
      "outputs": [],
      "source": [
        "# Feel free to use Python to help solve the problem."
      ]
    },
    {
      "cell_type": "markdown",
      "source": [
        "<b>Your Answer Here</b>"
      ],
      "metadata": {
        "id": "ZGh4eqRTDucm"
      }
    },
    {
      "cell_type": "markdown",
      "source": [
        "[Return to Top](#Notebook-Start)"
      ],
      "metadata": {
        "id": "wz0e8P96DxQD"
      }
    },
    {
      "cell_type": "markdown",
      "source": [
        "<a name=\"Problem-2\"></a>\n",
        "\n",
        "---\n",
        "\n",
        "<font size = 6> <b> Problem 2 </b> </font>\n",
        "\n",
        "---"
      ],
      "metadata": {
        "id": "QO1Q4m09D0FJ"
      }
    },
    {
      "cell_type": "markdown",
      "source": [
        "How much work is required to fill a (20 cm) tall vertical straw (with diameter 6 mm) with water if it is pulled up through the bottom of the straw?"
      ],
      "metadata": {
        "id": "mc3xwtykD0-n"
      }
    },
    {
      "cell_type": "code",
      "source": [
        "# Feel free to use Python to help solve the problem."
      ],
      "metadata": {
        "id": "HzzCUIZgDr7M"
      },
      "execution_count": null,
      "outputs": []
    },
    {
      "cell_type": "markdown",
      "source": [
        "<b>Your Answer Here</b>"
      ],
      "metadata": {
        "id": "D7AnEIHoECh8"
      }
    },
    {
      "cell_type": "markdown",
      "source": [
        "[Return to Top](#Notebook-Start)"
      ],
      "metadata": {
        "id": "g8PyNgzNEGJH"
      }
    },
    {
      "cell_type": "markdown",
      "source": [
        "<a name=\"Problem-3\"></a>\n",
        "\n",
        "---\n",
        "\n",
        "<font size = 6> <b> Problem 3 </b> </font>\n",
        "\n",
        "---"
      ],
      "metadata": {
        "id": "ORLsRPZtEIAa"
      }
    },
    {
      "cell_type": "markdown",
      "source": [
        "Given that a particular fluid is incompressible (density = constant), prove that $\\frac{\\text{dm}}{\\text{dx}} = 0$ in a flow along a fixed-shape pipe."
      ],
      "metadata": {
        "id": "gOXpLYDXEJ19"
      }
    },
    {
      "cell_type": "markdown",
      "source": [
        "<b>Best Answered on Paper</b>"
      ],
      "metadata": {
        "id": "zw5QwfxvEeT0"
      }
    },
    {
      "cell_type": "markdown",
      "source": [
        "<a name=\"Problem-4\"></a>\n",
        "\n",
        "---\n",
        "\n",
        "<font size = 6> <b> Problem 4 </b> </font>\n",
        "\n",
        "---"
      ],
      "metadata": {
        "id": "ghTLpJ3UEi_t"
      }
    },
    {
      "cell_type": "markdown",
      "source": [
        "A certain pump in a factory needs to bring a fluid (density = 1120 kg/m$^3$) upwards at a rate of (0.25 m$^3$/s) from ground level to a height of 30 m. For a pump of efficiency 83%, determine the power required to run the pump."
      ],
      "metadata": {
        "id": "R-eNBALbEmC2"
      }
    },
    {
      "cell_type": "code",
      "source": [
        "# Feel free to use Python to help solve the problem."
      ],
      "metadata": {
        "id": "IvR4RQPDEEV_"
      },
      "execution_count": null,
      "outputs": []
    },
    {
      "cell_type": "markdown",
      "source": [
        "<b>Your Answer Here</b>"
      ],
      "metadata": {
        "id": "bWIIuEiLFIOD"
      }
    },
    {
      "cell_type": "markdown",
      "source": [
        "[Return to Top](#Notebook-Start)"
      ],
      "metadata": {
        "id": "7m__JCreFLnd"
      }
    },
    {
      "cell_type": "markdown",
      "source": [
        "<a name=\"Problem-5\"></a>\n",
        "\n",
        "---\n",
        "\n",
        "<font size = 6> <b> Problem 5 </b> </font>\n",
        "\n",
        "---"
      ],
      "metadata": {
        "id": "XYhapFe4FNOB"
      }
    },
    {
      "cell_type": "markdown",
      "source": [
        "A particular heat-sink needs to dissipate 1500 W of power. The emmissivity of the heat-sink's material is 0.85, the temperature of the heat-sink is 50 degrees Celcius and it is in a large room where the air temperature is 20 degrees Celcius. What surface area must the heat sink have to meet its power requirements?"
      ],
      "metadata": {
        "id": "FKKAJVSNFPsM"
      }
    },
    {
      "cell_type": "code",
      "source": [
        "# Feel free to use Python to help solve the problem."
      ],
      "metadata": {
        "id": "pjCXOgZzFKSJ"
      },
      "execution_count": null,
      "outputs": []
    },
    {
      "cell_type": "markdown",
      "source": [
        "<b>Your Answer Here</b>"
      ],
      "metadata": {
        "id": "0tfuVKBvF_Xt"
      }
    },
    {
      "cell_type": "markdown",
      "source": [
        "[Return to Top](#Notebook-Start)\n",
        "\n",
        "---"
      ],
      "metadata": {
        "id": "KEV5uF_8GCbI"
      }
    }
  ]
}