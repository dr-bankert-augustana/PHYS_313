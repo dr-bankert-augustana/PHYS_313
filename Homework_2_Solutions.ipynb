{
  "nbformat": 4,
  "nbformat_minor": 0,
  "metadata": {
    "colab": {
      "provenance": [],
      "authorship_tag": "ABX9TyN8clsiwvAA6a1UwO4ryZKq",
      "include_colab_link": true
    },
    "kernelspec": {
      "name": "python3",
      "display_name": "Python 3"
    },
    "language_info": {
      "name": "python"
    }
  },
  "cells": [
    {
      "cell_type": "markdown",
      "metadata": {
        "id": "view-in-github",
        "colab_type": "text"
      },
      "source": [
        "<a href=\"https://colab.research.google.com/github/dr-bankert-augustana/PHYS_313/blob/main/Homework_2_Solutions.ipynb\" target=\"_parent\"><img src=\"https://colab.research.google.com/assets/colab-badge.svg\" alt=\"Open In Colab\"/></a>"
      ]
    },
    {
      "cell_type": "markdown",
      "source": [
        "<a name=\"Notebook-Start\"></a>\n",
        "\n",
        "---\n",
        "\n",
        "<font size = 7> <b> PHYS 313 Homework 2 </b> </font>\n",
        "\n",
        "---"
      ],
      "metadata": {
        "id": "1C86iOeMDJ2w"
      }
    },
    {
      "cell_type": "markdown",
      "source": [
        "<font size = 5> <b> Notebook Index </b> </font>\n",
        "\n",
        "1. [Problem 1](#Problem-1)\n",
        "\n",
        "2. [Problem 2](#Problem-2)\n",
        "\n",
        "3. [Problem 3](#Problem-3)\n",
        "\n",
        "4. [Problem 4](#Problem-4)\n",
        "\n",
        "5. [Problem 5](#Problem-5)\n",
        "$\n",
        "\\newcommand{\\lsum}{\\displaystyle \\sum\\limits_{i=1}^{N}}\n",
        "\\newcommand{\\parens}[1]{\\left(#1\\right)}\n",
        "\\newcommand{\\dsfrac}[2]{\\displaystyle\\frac{#1}{#2}}\n",
        "\\newcommand{\\dpfrac}[2]{\\displaystyle\\parens{\\frac{#1}{#2}}}\n",
        "\\newcommand{\\parderiv}[2]{\\dsfrac{\\partial #1}{\\partial #2}}\n",
        "\\newcommand{\\spc}{\\hspace{0.1 pc}}\n",
        "\\newcommand{\\ra}{\\Rightarrow}\n",
        "\\newcommand{\\of}[1]{{\\scriptsize (#1)}}\n",
        "\\newcommand{\\rule}{\\Huge \\hspace{-0.2 pc} \\displaystyle\\frac{\\hspace{20 pc}}{\\hspace{20 pc}}}\n",
        "\\newcommand{\\mps}{\\spc \\frac{\\textrm{m}}{\\textrm{s}}}\n",
        "\\newcommand{\\mpss}{\\spc \\frac{\\textrm{m}}{\\textrm{s}^2}}\n",
        "$"
      ],
      "metadata": {
        "id": "g65BTMxCDOg1"
      }
    },
    {
      "cell_type": "markdown",
      "source": [
        "<a name=\"Problem-1\"></a>\n",
        "\n",
        "---\n",
        "\n",
        "<font size = 6> <b> Problem 1 </b> </font>\n",
        "\n",
        "---"
      ],
      "metadata": {
        "id": "psk_0XBpDSku"
      }
    },
    {
      "cell_type": "markdown",
      "source": [
        "A (65 W) fan is built into a square airduct with a side length of (0.3 m). The fan needs to produce an airspeed of (5 m/s) at the outlet vent, which is (10 m) above the fan. How much (above atmosphere) does the fan need to raise the air pressure to achieve this? (air density = 1.2 kg/m$^3$)"
      ],
      "metadata": {
        "id": "P9YYyGj6DTX9"
      }
    },
    {
      "cell_type": "code",
      "execution_count": null,
      "metadata": {
        "id": "aZMSSEPCDBdi",
        "outputId": "e4aa778a-e7b6-43c7-d275-ae2d26606784",
        "colab": {
          "base_uri": "https://localhost:8080/"
        }
      },
      "outputs": [
        {
          "output_type": "stream",
          "name": "stdout",
          "text": [
            "The fan needs to raise the air pressure to 101457.72 Pa.\n"
          ]
        }
      ],
      "source": [
        "# e_i = P_i / rho + g * h_i + 1/2 * v_i^2\n",
        "# e_f = P_f / rho + g * h_f + 1/2 * v_f^2\n",
        "#\n",
        "# e_i = e_f\n",
        "#\n",
        "# => P_i = P_f + rho * ((g * h_f - h_i) + 1/2 * (v_f^2 - v_i^2))\n",
        "\n",
        "rho = 1.2 # kg/m^3\n",
        "g = 9.81 # m/s^2\n",
        "\n",
        "h_i = 0  # m\n",
        "h_f = 10 # m\n",
        "\n",
        "v_i = 0  # m/s\n",
        "v_f = 5  # m/s\n",
        "\n",
        "P_f = 101_325 # Pa\n",
        "\n",
        "P_i = P_f + rho * ((g * h_f - h_i) + 0.5 * (v_f**2 - v_i**2))\n",
        "\n",
        "print(f\"The fan needs to raise the air pressure to {P_i} Pa.\")"
      ]
    },
    {
      "cell_type": "markdown",
      "source": [
        "<b>Your Answer Here</b>"
      ],
      "metadata": {
        "id": "ZGh4eqRTDucm"
      }
    },
    {
      "cell_type": "markdown",
      "source": [
        "[Return to Top](#Notebook-Start)"
      ],
      "metadata": {
        "id": "wz0e8P96DxQD"
      }
    },
    {
      "cell_type": "markdown",
      "source": [
        "<a name=\"Problem-2\"></a>\n",
        "\n",
        "---\n",
        "\n",
        "<font size = 6> <b> Problem 2 </b> </font>\n",
        "\n",
        "---"
      ],
      "metadata": {
        "id": "QO1Q4m09D0FJ"
      }
    },
    {
      "cell_type": "markdown",
      "source": [
        "How much work is required to fill a (20 cm) tall vertical straw (with diameter 6 mm) with water if it is pulled up through the bottom of the straw?"
      ],
      "metadata": {
        "id": "mc3xwtykD0-n"
      }
    },
    {
      "cell_type": "code",
      "source": [
        "import numpy as np\n",
        "\n",
        "# W = integral(F * dh)\n",
        "#   = integral(m * g * dh)\n",
        "#   = integral(rho * A * h * g * dh)\n",
        "#   = rho * A * g * integral(h * dh)\n",
        "#   = rho * A * g * 0.5 * h_f^2\n",
        "\n",
        "rho = 1000 # kg / m^3\n",
        "hf  = 0.2  # m\n",
        "A   = np.pi * (.006/2)**2 # m^2\n",
        "g   = 9.81 # m/s^2\n",
        "\n",
        "W = rho * A * g * 0.5 * hf**2\n",
        "\n",
        "print(f\"The work required to fill the straw is {np.round(W, 5)} W.\")"
      ],
      "metadata": {
        "id": "HzzCUIZgDr7M",
        "outputId": "975ca195-03fd-4d51-b798-aa3e7e5e962a",
        "colab": {
          "base_uri": "https://localhost:8080/"
        }
      },
      "execution_count": null,
      "outputs": [
        {
          "output_type": "stream",
          "name": "stdout",
          "text": [
            "The work required to fill the straw is 0.00555 W.\n"
          ]
        }
      ]
    },
    {
      "cell_type": "markdown",
      "source": [
        "<b>Your Answer Here</b>"
      ],
      "metadata": {
        "id": "D7AnEIHoECh8"
      }
    },
    {
      "cell_type": "markdown",
      "source": [
        "[Return to Top](#Notebook-Start)"
      ],
      "metadata": {
        "id": "g8PyNgzNEGJH"
      }
    },
    {
      "cell_type": "markdown",
      "source": [
        "<a name=\"Problem-3\"></a>\n",
        "\n",
        "---\n",
        "\n",
        "<font size = 6> <b> Problem 3 </b> </font>\n",
        "\n",
        "---"
      ],
      "metadata": {
        "id": "ORLsRPZtEIAa"
      }
    },
    {
      "cell_type": "markdown",
      "source": [
        "<b>Typo in Problem</b>:\n",
        "\n",
        "Given that a particular fluid is incompressible (density = constant), prove that $\\frac{\\text{dm}}{\\text{dx}} = 0$ in a flow along a fixed-shape pipe.\n",
        "\n",
        "<b>Should be</b>:\n",
        "\n",
        "Given that a particular fluid is incompressible (density = constant), prove that $\\frac{\\text{dm}}{\\text{dx}} = $ constant in a flow along a fixed-shape pipe."
      ],
      "metadata": {
        "id": "gOXpLYDXEJ19"
      }
    },
    {
      "cell_type": "markdown",
      "source": [
        " Solution:\n",
        "\n",
        " $\\rho = \\dsfrac{\\text{dm}}{\\text{dV}}$ = constant\n",
        "\n",
        " <br>\n",
        "\n",
        " $\\ra \\rho = \\dsfrac{\\text{dm}}{\\text{dV}} = \\dsfrac{1}{\\text{A}} \\cdot \\dsfrac{\\text{dm}}{\\text{dx}}$ (for a fixed shape pipe)\n",
        "\n",
        " <br>\n",
        "\n",
        " $\\ra \\dsfrac{\\text{dm}}{\\text{dx}} = \\rho * A = $ constant (for a fixed shape pipe)"
      ],
      "metadata": {
        "id": "zw5QwfxvEeT0"
      }
    },
    {
      "cell_type": "markdown",
      "source": [
        "<a name=\"Problem-4\"></a>\n",
        "\n",
        "---\n",
        "\n",
        "<font size = 6> <b> Problem 4 </b> </font>\n",
        "\n",
        "---"
      ],
      "metadata": {
        "id": "ghTLpJ3UEi_t"
      }
    },
    {
      "cell_type": "markdown",
      "source": [
        "A certain pump in a factory needs to bring a fluid (density = 1120 kg/m$^3$) upwards at a rate of (0.25 m$^3$/s) from ground level to a height of 30 m. For a pump of efficiency 83%, determine the power required to run the pump."
      ],
      "metadata": {
        "id": "R-eNBALbEmC2"
      }
    },
    {
      "cell_type": "code",
      "source": [
        "# e_i = (P_atm) / rho + g * (0) + 1/2 * (0)^2\n",
        "# e_f = (P_atm) / rho + g * (h) + 1/2 * (0)^2\n",
        "# delta_e = e_f - e_i = g * h\n",
        "#\n",
        "# mdot = rho * Vdot\n",
        "#\n",
        "# Power_supplied = mdot * delta_e\n",
        "# Power_needed = Power_supplied / efficiency\n",
        "\n",
        "g = 9.81 # m/s^2\n",
        "\n",
        "Vdot = 0.25 # m^3/s\n",
        "rho = 1120 # kg/m^3\n",
        "\n",
        "mdot = rho * Vdot\n",
        "h = 30 # m\n",
        "efficiency = 0.8\n",
        "\n",
        "Power_supplied = mdot * g * h\n",
        "Power_needed = Power_supplied / efficiency\n",
        "\n",
        "print(f\"The power required to run the pump is {np.round(Power_needed, 5)} W.\")"
      ],
      "metadata": {
        "id": "IvR4RQPDEEV_",
        "outputId": "36e08a4e-bbc2-4d2e-aa02-7eb415c87348",
        "colab": {
          "base_uri": "https://localhost:8080/"
        }
      },
      "execution_count": null,
      "outputs": [
        {
          "output_type": "stream",
          "name": "stdout",
          "text": [
            "The power required to run the pump is 103005.0 W.\n"
          ]
        }
      ]
    },
    {
      "cell_type": "markdown",
      "source": [
        "<b>Your Answer Here</b>"
      ],
      "metadata": {
        "id": "bWIIuEiLFIOD"
      }
    },
    {
      "cell_type": "markdown",
      "source": [
        "[Return to Top](#Notebook-Start)"
      ],
      "metadata": {
        "id": "7m__JCreFLnd"
      }
    },
    {
      "cell_type": "markdown",
      "source": [
        "<a name=\"Problem-5\"></a>\n",
        "\n",
        "---\n",
        "\n",
        "<font size = 6> <b> Problem 5 </b> </font>\n",
        "\n",
        "---"
      ],
      "metadata": {
        "id": "XYhapFe4FNOB"
      }
    },
    {
      "cell_type": "markdown",
      "source": [
        "A particular heat-sink needs to dissipate 1500 W of power. The emmissivity of the heat-sink's material is 0.85, the temperature of the heat-sink is 50 degrees Celcius and it is in a large room where the air temperature is 20 degrees Celcius. What surface area must the heat sink have to meet its power requirements?"
      ],
      "metadata": {
        "id": "FKKAJVSNFPsM"
      }
    },
    {
      "cell_type": "code",
      "source": [
        "# P_radiative = epsilon * sigma * A * (T_obj^4 - T_env^4)\n",
        "#\n",
        "# A = P_radiative / (epsilon * sigma * (T_obj^4 - T_env^4))\n",
        "\n",
        "epsilon = 0.85\n",
        "sigma = 5.67e-8 # W / (m^2 * K^4)\n",
        "T_obj = 50 + 273.15 # K\n",
        "T_env = 20 + 273.15 # K\n",
        "\n",
        "P_radiative = 1500 # W\n",
        "\n",
        "A = P_radiative / (epsilon * sigma * (T_obj**4 - T_env**4))\n",
        "\n",
        "print(f\"The surface area of the heat sink must be {np.round(A, 5)} m^2.\")"
      ],
      "metadata": {
        "id": "pjCXOgZzFKSJ",
        "colab": {
          "base_uri": "https://localhost:8080/"
        },
        "outputId": "745c3405-ae0c-4fcf-8c6a-37828637651f"
      },
      "execution_count": null,
      "outputs": [
        {
          "output_type": "stream",
          "name": "stdout",
          "text": [
            "The surface area of the heat sink must be 8.84288 m^2.\n"
          ]
        }
      ]
    },
    {
      "cell_type": "markdown",
      "source": [
        "<b>Your Answer Here</b>"
      ],
      "metadata": {
        "id": "0tfuVKBvF_Xt"
      }
    },
    {
      "cell_type": "markdown",
      "source": [
        "[Return to Top](#Notebook-Start)\n",
        "\n",
        "---"
      ],
      "metadata": {
        "id": "KEV5uF_8GCbI"
      }
    }
  ]
}