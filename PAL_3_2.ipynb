{
  "nbformat": 4,
  "nbformat_minor": 0,
  "metadata": {
    "colab": {
      "provenance": [],
      "authorship_tag": "ABX9TyMT7CHh0wIy3APZm9vrQYpJ",
      "include_colab_link": true
    },
    "kernelspec": {
      "name": "python3",
      "display_name": "Python 3"
    },
    "language_info": {
      "name": "python"
    }
  },
  "cells": [
    {
      "cell_type": "markdown",
      "metadata": {
        "id": "view-in-github",
        "colab_type": "text"
      },
      "source": [
        "<a href=\"https://colab.research.google.com/github/dr-bankert-augustana/PHYS_313/blob/main/PAL_3_2.ipynb\" target=\"_parent\"><img src=\"https://colab.research.google.com/assets/colab-badge.svg\" alt=\"Open In Colab\"/></a>"
      ]
    },
    {
      "cell_type": "markdown",
      "source": [
        "<a name=\"Notebook-Start\"></a>\n",
        "\n",
        "---\n",
        "\n",
        "<font size = 7> <b> Week 3: Friday PAL </b> </font>\n",
        "\n",
        "---"
      ],
      "metadata": {
        "id": "t04YZI1zcZaD"
      }
    },
    {
      "cell_type": "markdown",
      "source": [
        "<a name=\"PAL\"></a>\n",
        "\n",
        "---\n",
        "\n",
        "<font size = 6> <b> 1. PAL </b> </font>\n",
        "\n",
        "---"
      ],
      "metadata": {
        "id": "f8cSfenzcfMG"
      }
    },
    {
      "cell_type": "markdown",
      "source": [
        "<font size = 5> <b> Problem 1 </b> </font>\n",
        "\n",
        "A resevoir of still water feeds a turbine-generator through a shaft (100 m) below the intake. The flow speed of the water at the outlet is (40 m/s) and the flow rate is (1000 kg/s). The turbine is connected to a generator that is producing (150 kW) of power at an efficiency of (0.9). What is the efficiency of the turbine? (Assume the intake and outlet are both near their respective water surfaces.)"
      ],
      "metadata": {
        "id": "0sHr0YeUchsB"
      }
    },
    {
      "cell_type": "code",
      "source": [
        "# Please feel free to use Python to help you with this problem."
      ],
      "metadata": {
        "id": "XVO1DhPzceUX"
      },
      "execution_count": null,
      "outputs": []
    },
    {
      "cell_type": "markdown",
      "source": [
        "<b>Your answer here</b>"
      ],
      "metadata": {
        "id": "JY1zytMPdQ4a"
      }
    },
    {
      "cell_type": "markdown",
      "source": [
        "<font size = 5> <b> Problem 2 </b> </font>\n",
        "\n",
        "Given the same setup as above, the intake is now placed at (10 m) below the surface of the water (90 m) above the turbine. What is the new power output of the electric generator? (Assume all other values stay the same.)"
      ],
      "metadata": {
        "id": "uk6nLgiFdU_o"
      }
    },
    {
      "cell_type": "code",
      "source": [
        "# Please feel free to use Python to help you with this problem."
      ],
      "metadata": {
        "id": "zUL48X79dSxZ"
      },
      "execution_count": null,
      "outputs": []
    },
    {
      "cell_type": "markdown",
      "source": [
        "<b>Your answer here</b>"
      ],
      "metadata": {
        "id": "Im-h-qpbd80D"
      }
    },
    {
      "cell_type": "code",
      "source": [],
      "metadata": {
        "id": "40jYJJ_dd9V7"
      },
      "execution_count": null,
      "outputs": []
    }
  ]
}