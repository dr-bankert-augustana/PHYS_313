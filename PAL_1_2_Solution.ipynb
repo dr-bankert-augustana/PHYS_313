{
  "nbformat": 4,
  "nbformat_minor": 0,
  "metadata": {
    "colab": {
      "provenance": [],
      "authorship_tag": "ABX9TyMUwlk48xvhwj+THGxFqKMr",
      "include_colab_link": true
    },
    "kernelspec": {
      "name": "python3",
      "display_name": "Python 3"
    },
    "language_info": {
      "name": "python"
    }
  },
  "cells": [
    {
      "cell_type": "markdown",
      "metadata": {
        "id": "view-in-github",
        "colab_type": "text"
      },
      "source": [
        "<a href=\"https://colab.research.google.com/github/dr-bankert-augustana/PHYS_313/blob/main/PAL_1_2_Solution.ipynb\" target=\"_parent\"><img src=\"https://colab.research.google.com/assets/colab-badge.svg\" alt=\"Open In Colab\"/></a>"
      ]
    },
    {
      "cell_type": "markdown",
      "source": [
        "<a name=\"Notebook-Start\"></a>\n",
        "\n",
        "---\n",
        "\n",
        "<font size = 7> <b> PAL 1.2 (Solutions) </b> </font>\n",
        "\n",
        "---"
      ],
      "metadata": {
        "id": "ndu8iE0myMcW"
      }
    },
    {
      "cell_type": "markdown",
      "source": [
        "<font size = 5> <b> Notebook Index </b> </font>\n",
        "\n",
        "1.  [Problem 1](#Problem-1)\n",
        "\n",
        "2.  [Problem 2](#Problem-2)\n",
        "\n",
        "3.  [Problem 3](#Problem-3)\n",
        "\n",
        "4.  [Problem 4](#Problem-4)\n",
        "\n",
        "5.  [Problem 5](#Problem-5)\n",
        "$\n",
        "\\newcommand{\\parens}[1]{\\left( #1 \\right)}\n",
        "\\newcommand{\\brackets}[1]{\\left[ #1 \\right]}\n",
        "\\newcommand{\\lsum}{\\displaystyle \\sum\\limits_{i=1}^{N}}\n",
        "\\newcommand{\\parens}[1]{\\left(#1\\right)}\n",
        "\\newcommand{\\dsfrac}[2]{\\displaystyle\\frac{#1}{#2}}\n",
        "\\newcommand{\\dpfrac}[2]{\\displaystyle\\parens{\\frac{#1}{#2}}}\n",
        "\\newcommand{\\parderiv}[2]{\\dsfrac{\\partial #1}{\\partial #2}}\n",
        "\\newcommand{\\spc}{\\hspace{0.1 pc}}\n",
        "\\newcommand{\\ra}{\\Rightarrow}\n",
        "\\newcommand{\\of}[1]{{\\scriptsize (#1)}}\n",
        "\\newcommand{\\rule}{\\Huge \\hspace{-0.2 pc} \\displaystyle\\frac{\\hspace{20 pc}}{\\hspace{20 pc}}}\n",
        "\\newcommand{\\mps}{\\spc \\frac{\\textrm{m}}{\\textrm{s}}}\n",
        "\\newcommand{\\mpss}{\\spc \\frac{\\textrm{m}}{\\textrm{s}^2}}\n",
        "\\newcommand{\\twomatrixtall}[2]{\n",
        "\\left( \\begin{array}{c} #1 \\\\ #2 \\end{array} \\right)\n",
        "}\n",
        "\\newcommand{\\threematrixtall}[3]{\n",
        "\\left( \\begin{array}{c} #1 \\\\ #2 \\\\ #3 \\end{array} \\right)\n",
        "}\n",
        "\\newcommand{\\fourmatrixsquare}[4]{\n",
        "\\left( \\begin{array}{c c} #1 & #2 \\\\ #3 & #4 \\end{array} \\right)\n",
        "}\n",
        "\\newcommand{\\fourmatrixlong}[4]{\n",
        "\\left( \\begin{array}{c c c c} #1 & #2 & #3 & #4 \\end{array} \\right)\n",
        "}\n",
        "\\newcommand{\\ninematrixsquare}[9]{\n",
        "\\left( \\begin{array}{c c c} #1 & #2 & #3 \\\\ #4 & #5 & #6 \\\\ #7 & #8 & #9 \\end{array} \\right)\n",
        "}\n",
        "$"
      ],
      "metadata": {
        "id": "t8mxhUSLyRdt"
      }
    },
    {
      "cell_type": "markdown",
      "source": [
        "<a name=\"Problem-1\"></a>\n",
        "\n",
        "---\n",
        "\n",
        "<font size = 6> <b> Problem 1 </b> </font>\n",
        "\n",
        "---"
      ],
      "metadata": {
        "id": "C_Q_06ltybJO"
      }
    },
    {
      "cell_type": "markdown",
      "source": [
        "<p align = 'justify'>\n",
        "A given ideal gas is placed inside a constant-volume container. The temperature guage on the side of the container reads 55 $^{o}$C and the internal pressure guage reads 1.1 Atm.\n",
        "</p>\n",
        "\n",
        "<br>\n",
        "\n",
        "Find the coefficient of the absolute gas temperature scale for this ideal gas. Your answer should be in units of $\\left(\\frac{\\text{K}}{\\text{kPa}}\\right)$."
      ],
      "metadata": {
        "id": "5x2R43ZOyLCJ"
      }
    },
    {
      "cell_type": "code",
      "execution_count": 3,
      "metadata": {
        "colab": {
          "base_uri": "https://localhost:8080/"
        },
        "id": "gvYlTakZx7hH",
        "outputId": "b2607bc4-a2ef-4850-b895-d8a65baa743f"
      },
      "outputs": [
        {
          "output_type": "stream",
          "name": "stdout",
          "text": [
            "The coefficient is 2.944 K/kPa\n"
          ]
        }
      ],
      "source": [
        "# Given a linear model of temperature and pressure T_K = a + b * P\n",
        "\n",
        "# We assume that a = 0, (P = 0 at 0 K)\n",
        "\n",
        "# We need to find b\n",
        "\n",
        "# b = T_K / P_kPa\n",
        "\n",
        "import numpy as np\n",
        "\n",
        "T_C = 55 # Degrees Celcius\n",
        "\n",
        "T_K = T_C + 273.15 # Degrees Kelvin\n",
        "\n",
        "P_atm = 1.1 # Atmospheres\n",
        "\n",
        "P_kPa = P_atm * 101.325 # Kilopascals\n",
        "\n",
        "b = T_K / P_kPa\n",
        "\n",
        "print(\"The coefficient is\", np.round(b, 3), \"K/kPa\")"
      ]
    },
    {
      "cell_type": "markdown",
      "source": [
        "[Return to Top](#Notebook-Start)"
      ],
      "metadata": {
        "id": "Llava683zlpb"
      }
    },
    {
      "cell_type": "markdown",
      "source": [
        "<a name=\"Problem-2\"></a>\n",
        "\n",
        "---\n",
        "\n",
        "<font size = 6> <b> Problem 2 </b> </font>\n",
        "\n",
        "---"
      ],
      "metadata": {
        "id": "JqBeIZLIzs1n"
      }
    },
    {
      "cell_type": "markdown",
      "source": [
        "The constant-volume container in (<b>Problem 1</b>) is evacuated. The internal pressure guage now reads 0.01 Atm. The external pressure guage (which shows the pressure in the surrounding room) reads 1.05 Atm. If the container is a sphere of radius 0.9 m, find the total force (in Newtons) on the container's walls."
      ],
      "metadata": {
        "id": "45bKaoRtzicv"
      }
    },
    {
      "cell_type": "code",
      "source": [
        "import numpy as np\n",
        "\n",
        "# Pressure Difference: P_diff =  P_ext - P_int\n",
        "\n",
        "P_ext_atm = 1.05 # Atmospheres\n",
        "\n",
        "P_int_atm = 0.01 # Atmospheres\n",
        "\n",
        "P_diff_atm = P_ext_atm - P_int_atm\n",
        "\n",
        "P_diff_pa = P_diff_atm * 101_325 # Pascals\n",
        "\n",
        "# Sphere Surface Area: SA = 4 * pi * r^2\n",
        "\n",
        "r = 0.9 # Meters\n",
        "\n",
        "SA = 4 * np.pi * r**2 # meters^2\n",
        "\n",
        "# Force: F = P_diff * SA\n",
        "\n",
        "F = P_diff_pa * SA # Newtons\n",
        "\n",
        "print(\"The total force on the container's walls is\", np.round(F, 2), \"N\")"
      ],
      "metadata": {
        "colab": {
          "base_uri": "https://localhost:8080/"
        },
        "id": "WBfqz2sczTUq",
        "outputId": "26e5e6b0-2cdd-4b8b-f162-f4546525398c"
      },
      "execution_count": 5,
      "outputs": [
        {
          "output_type": "stream",
          "name": "stdout",
          "text": [
            "The total force on the container's walls is 1072617.39 N\n"
          ]
        }
      ]
    },
    {
      "cell_type": "markdown",
      "source": [
        "[Return to Top](#Notebook-Start)"
      ],
      "metadata": {
        "id": "u1wFPpGQ0wgQ"
      }
    },
    {
      "cell_type": "markdown",
      "source": [
        "<a name=\"Problem-3\"></a>\n",
        "\n",
        "---\n",
        "\n",
        "<font size = 6> <b> Problem 3 </b> </font>\n",
        "\n",
        "---"
      ],
      "metadata": {
        "id": "DQ3qJyFG0z7u"
      }
    },
    {
      "cell_type": "markdown",
      "source": [
        "A given fluid has a density that increases linearly with depth as $\\rho_{(h)} = \\rho_0 + c \\spc h$ where $c = 1 \\times 10^{-2} \\spc \\left(\\frac{\\text{g}}{\\text{cm}^3}\\right) \\spc \\frac{1}{\\text{m}}$ and $\\rho_0 = 1 \\spc \\left(\\frac{\\text{g}}{\\text{cm}^3}\\right)$\n",
        "</p>\n",
        "\n",
        "<br>\n",
        "\n",
        "If the surface of the fluid is at sea level, determine the pressure at a depth of 30 meters below its surface."
      ],
      "metadata": {
        "id": "jU_yGTRO04h2"
      }
    },
    {
      "cell_type": "code",
      "source": [
        "# P_depth = P_surface + integral(rho * g * dh)\n",
        "\n",
        "# = P_surface + integral((rho_0 + c * h) * g dh)\n",
        "\n",
        "# = P_surface + rho_0 * g * H + 0.5 * c * g * H^2\n",
        "\n",
        "rho_0_g = 1 # g/cm^3\n",
        "\n",
        "rho_0_kg = rho_0_g * 1000 # kg/m^3\n",
        "\n",
        "c_g = 1e-2 # (g/cm^3) 1/m\n",
        "\n",
        "c_kg = c_g * 1000 # (kg/m^3) 1/m\n",
        "\n",
        "g = 9.81 # m/s^2\n",
        "\n",
        "H = 30 # meters\n",
        "\n",
        "P_surface = 101_325 # Pa\n",
        "\n",
        "P_depth = P_surface + rho_0_kg * g * H + 0.5 * c_kg * g * H**2\n",
        "\n",
        "print(\"The pressure at a depth of 30 meters below the surface is\", np.round(P_depth, 2), \"Pa\")"
      ],
      "metadata": {
        "colab": {
          "base_uri": "https://localhost:8080/"
        },
        "id": "FdKxlNWk0fIt",
        "outputId": "e3991e57-7541-4639-8964-885eb8f6fbab"
      },
      "execution_count": 8,
      "outputs": [
        {
          "output_type": "stream",
          "name": "stdout",
          "text": [
            "The pressure at a depth of 30 meters below the surface is 439770.0 Pa\n"
          ]
        }
      ]
    },
    {
      "cell_type": "markdown",
      "source": [
        "[Return to Top](#Notebook-Start)"
      ],
      "metadata": {
        "id": "AoEDn2vK25hE"
      }
    },
    {
      "cell_type": "markdown",
      "source": [
        "<a name=\"Problem-4\"></a>\n",
        "\n",
        "---\n",
        "\n",
        "<font size = 6> <b> Problem 4 </b> </font>\n",
        "\n",
        "---"
      ],
      "metadata": {
        "id": "pOn_MsMk3Edg"
      }
    },
    {
      "cell_type": "markdown",
      "source": [
        "<p align = 'justify'>\n",
        "A cube shaped object with side lengths of 8 meters is submerged in the fluid from (<b>Problem 3</b>). The top of the object is 2 meters below the surface.\n",
        "</p>\n",
        "\n",
        "<br>\n",
        "\n",
        "Determine the bouyancy force on the object."
      ],
      "metadata": {
        "id": "NPiBaTAh3IpZ"
      }
    },
    {
      "cell_type": "code",
      "source": [
        "# F_bouy = F_bottom - F_top\n",
        "\n",
        "# = P_bottom * A - P_top * A = (P_bottom - P_top) * A\n",
        "\n",
        "# P_bottom = P_surface + rho_0 * g * H_bottom + 0.5 * c * g * H_bottom^2\n",
        "\n",
        "# P_top = P_surface + rho_0 * g * H_top + 0.5 * c * g * H_top^2\n",
        "\n",
        "H_top = 2 # meters\n",
        "\n",
        "H_bottom = 10 # meters\n",
        "\n",
        "P_top = P_surface + rho_0_kg * g * H_top + 0.5 * c_kg * g * H_top**2\n",
        "\n",
        "P_bottom = P_surface + rho_0_kg * g * H_bottom + 0.5 * c_kg * g * H_bottom**2\n",
        "\n",
        "A = 8**2 # meters^2\n",
        "\n",
        "F_bouy = (P_bottom - P_top) * A # Newtons\n",
        "\n",
        "print(\"The bouyancy force on the object is\", np.round(F_bouy, 2), \"N\")"
      ],
      "metadata": {
        "colab": {
          "base_uri": "https://localhost:8080/"
        },
        "id": "hrAPgKwd2iLk",
        "outputId": "dd5d416b-4763-4eb7-a40a-b94563ec4068"
      },
      "execution_count": 9,
      "outputs": [
        {
          "output_type": "stream",
          "name": "stdout",
          "text": [
            "The bouyancy force on the object is 5324083.2 N\n"
          ]
        }
      ]
    },
    {
      "cell_type": "markdown",
      "source": [
        "[Return to Top](#Notebook-Start)"
      ],
      "metadata": {
        "id": "Te3TwbnI4ZAg"
      }
    },
    {
      "cell_type": "markdown",
      "source": [
        "<a name=\"Problem-5\"></a>\n",
        "\n",
        "---\n",
        "\n",
        "<font size = 6> <b> Problem 5 </b> </font>\n",
        "\n",
        "---"
      ],
      "metadata": {
        "id": "ly02C1L84bQY"
      }
    },
    {
      "cell_type": "markdown",
      "source": [
        "Given a hydraulic jack with a mechanical advantage of 25, what force is required to lift a 200 kg object?"
      ],
      "metadata": {
        "id": "21mzgelS4j8F"
      }
    },
    {
      "cell_type": "code",
      "source": [
        "# Advantage = A2/A1 = F2/F1\n",
        "\n",
        "# F2 = 200 kg * 9.8 m/s^2\n",
        "\n",
        "# F1 = F2 / Adv\n",
        "\n",
        "F2 = 200 * 9.8 # Newtons\n",
        "\n",
        "Adv = 25\n",
        "\n",
        "F1 = F2 / Adv\n",
        "\n",
        "print(\"The force required to lift a 200 kg object is\", np.round(F1, 2), \"N\")"
      ],
      "metadata": {
        "colab": {
          "base_uri": "https://localhost:8080/"
        },
        "id": "aT-iKkWb4Tmn",
        "outputId": "5a07d1e5-9d54-43d7-9bfa-ff016f108e98"
      },
      "execution_count": 10,
      "outputs": [
        {
          "output_type": "stream",
          "name": "stdout",
          "text": [
            "The force required to lift a 200 kg object is 78.4 N\n"
          ]
        }
      ]
    },
    {
      "cell_type": "markdown",
      "source": [
        "[Return to Top](#Notebook-Start)\n",
        "\n",
        "---"
      ],
      "metadata": {
        "id": "tCxCaESK5QYr"
      }
    }
  ]
}