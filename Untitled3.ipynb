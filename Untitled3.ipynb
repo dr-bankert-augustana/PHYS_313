{
  "nbformat": 4,
  "nbformat_minor": 0,
  "metadata": {
    "colab": {
      "provenance": [],
      "authorship_tag": "ABX9TyONgRGWdL8P31WslpXNloaP",
      "include_colab_link": true
    },
    "kernelspec": {
      "name": "python3",
      "display_name": "Python 3"
    },
    "language_info": {
      "name": "python"
    }
  },
  "cells": [
    {
      "cell_type": "markdown",
      "metadata": {
        "id": "view-in-github",
        "colab_type": "text"
      },
      "source": [
        "<a href=\"https://colab.research.google.com/github/dr-bankert-augustana/PHYS_313/blob/main/Untitled3.ipynb\" target=\"_parent\"><img src=\"https://colab.research.google.com/assets/colab-badge.svg\" alt=\"Open In Colab\"/></a>"
      ]
    },
    {
      "cell_type": "markdown",
      "source": [
        "<a name=\"Notebook-Start\"></a>\n",
        "\n",
        "---\n",
        "\n",
        "<font size = 7> <b> Lesson 1.1 (Introduction to Thermodynamics) </b> </font>\n",
        "\n",
        "---"
      ],
      "metadata": {
        "id": "W__lATGSx78F"
      }
    },
    {
      "cell_type": "markdown",
      "source": [
        "<font size = 5> <b> Notebook Index </b> </font>\n",
        "\n",
        "1.  [Learning Outcomes](#Learning-Outcomes)\n",
        "\n",
        "2.  [Introduction](#Introduction)\n",
        "\n",
        "3.  [Python: A First Look](#Python-First-Look)\n",
        "\n",
        "4.  [Variables](#Variables)\n",
        "\n",
        "5.  [Errors and Debugging](#Errors)\n",
        "\n",
        "6.  [Arrays](#Arrays)\n",
        "\n",
        "7.  [Dictionaries](#Dictionaries)\n",
        "\n",
        "8.  [Appendix A: New Term Definitions](#Appendix-Definitions)\n",
        "$\n",
        "\\newcommand{\\lsum}{\\displaystyle \\sum\\limits_{i=1}^{N}}\n",
        "\\newcommand{\\parens}[1]{\\left(#1\\right)}\n",
        "\\newcommand{\\dsfrac}[2]{\\displaystyle\\frac{#1}{#2}}\n",
        "\\newcommand{\\dpfrac}[2]{\\displaystyle\\parens{\\frac{#1}{#2}}}\n",
        "\\newcommand{\\parderiv}[2]{\\dsfrac{\\partial #1}{\\partial #2}}\n",
        "\\newcommand{\\spc}{\\hspace{0.1 pc}}\n",
        "\\newcommand{\\ra}{\\Rightarrow}\n",
        "\\newcommand{\\of}[1]{{\\scriptsize (#1)}}\n",
        "\\newcommand{\\rule}{\\Huge \\hspace{-0.2 pc} \\displaystyle\\frac{\\hspace{20 pc}}{\\hspace{20 pc}}}\n",
        "\\newcommand{\\mps}{\\spc \\frac{\\textrm{m}}{\\textrm{s}}}\n",
        "\\newcommand{\\mpss}{\\spc \\frac{\\textrm{m}}{\\textrm{s}^2}}\n",
        "$"
      ],
      "metadata": {
        "id": "CyOyrUt1yXmN"
      }
    },
    {
      "cell_type": "markdown",
      "source": [
        "<a name=\"Learning-Outcomes\"></a>\n",
        "\n",
        "---\n",
        "\n",
        "<font size = 6> <b> 1. Learning Outcomes </b> </font>\n",
        "\n",
        "---"
      ],
      "metadata": {
        "id": "xJCW90Pnya6E"
      }
    },
    {
      "cell_type": "markdown",
      "source": [
        "By the end of this lesson, students will be able to:\n",
        "\n",
        "  * <b>Describe</b> what Python is and <b>explain</b> its role in scientific computing.\n",
        "\n",
        "  * <b>Use</b> Google Colab to write, run, and <b>modify</b> Python code in an interactive environment.\n",
        "\n",
        "  * <b>Create<b> and </b>assign</b> variables to store numerical and textual data in Python.\n",
        "\n",
        "  * <b>Identify</b> and <b>interpret</b> common Python errors and practice basic debugging techniques.\n",
        "\n",
        "  * <b>Construct</b> and <b>manipulate</b> one-dimensional arrays (lists) to store and process collections of data.\n",
        "\n",
        "  * <b>Access</b> and <b>modify</b> elements of arrays using indexing and slicing.\n",
        "\n",
        "  * <b>Explain</b> the structure of two-dimensional arrays and <b>perform</b> basic 2D indexing and slicing operations.\n",
        "\n",
        "  * <b>Define</b> dictionaries and <b>explain</b> the difference between key-based and index-based data access.\n",
        "\n",
        "  * <b>Create</b>, <b>access</b>, and <b>modify</b> dictionaries to organize labeled data in a flexible way.\n",
        "\n",
        "  * <b>Differentiate</b> between lists and dictionaries, and <b>choose</b> the appropriate structure for a given problem."
      ],
      "metadata": {
        "id": "2lWkvIoEydK3"
      }
    },
    {
      "cell_type": "markdown",
      "source": [
        "<a name=\"Introduction\"></a>\n",
        "\n",
        "---\n",
        "\n",
        "<font size = 6> <b> 2. Introduction </b> </font>\n",
        "\n",
        "---"
      ],
      "metadata": {
        "id": "_yujDL818r0j"
      }
    },
    {
      "cell_type": "markdown",
      "source": [
        "[Return to Top](#Notebook-Start)"
      ],
      "metadata": {
        "id": "qPHCSahN8uEA"
      }
    },
    {
      "cell_type": "markdown",
      "source": [
        "<font size = 5> <b> 2.1 What is Thermodynamics? </b> </font>\n",
        "\n",
        "<p align = 'justify'>\n",
        "<a href = #Definition-Thermodynamics><b>Thermodynamics</b></a> can be thought of as the study of energy in its many and varied forms, and how it can be used to affect the observable world. Although it's a very deep topic, thermodynamics is built atop just a few pillars, called the \"<a href = #Definition-Laws><b>Laws of Thermodynamics</b></a>\"\n",
        "</p>\n",
        "\n",
        "  <br>\n",
        "\n",
        "  * <p align = 'justify'><b>Zeroth Law of Thermodynamics:</b> If two <a href = #Definition-System><b>systems</b></a> are independently in <a href = #Definition-Python><b>thermal equilibrium</b></a> with a third system, then those two systems are in thermal equilibrium with each other.</p>\n",
        "\n",
        "  <br>\n",
        "\n",
        "  * <p align = 'justify'><b>First Law of Thermodynamics:</b> Any change in a system's energy must happen according to the <a href = #Definition-COE><b>conservation of energy</b></a>.</p>\n",
        "\n",
        "  <br>\n",
        "\n",
        "  * <p align = 'justify'><b>Second Law of Thermodynamics:</b> During any natural thermodynamic process, the total disorder (or <a href = #Definition-Entropy><b>entropy</b></a>) of a system must increase with increasing time. (Colloquially known as \"time's arrow\").</p>\n",
        "\n",
        "  <br>\n",
        "\n",
        "  * <p align = 'justify'><b>Third Law of Thermodynamics:</b> The entropy of a system approaches a time-constant value as the system's <a href = #Definition-Temperature><b>temperature</b></a> approaches <a href = #Definition-Zero><b>absolute zero</b></a>. For a pure crystalline substance, this time-constant value is vanishingly small.</p>\n",
        "\n",
        "<center>$\\rule$</center>\n",
        "<font size = 5> <b> 2.2 What are Systems? </b> </font>\n",
        "\n",
        "<p align = 'justify'>\n",
        "A system is a quantity of matter, arrangement of objects, or a region in space that we have chosen to focus on.\n",
        "</p>\n",
        "\n",
        "<br>\n",
        "\n",
        "><b>Note:</b><p align = 'justify'>\n",
        ">The choice of a system is completely arbitrary and we can solve the same\n",
        ">problem with many different choices of the system. That being said,\n",
        "><b>a clever choice of system can greatly simplify a problem</b>.\n",
        "</p>\n",
        "\n",
        "<br>\n",
        "\n",
        "<p align = 'justify'>\n",
        "The mass, objects, or region of space <b>outside</b> of our chosen system is called the <a href = #Definition-Surroundings><b>surroundings</b></a>.\n",
        "</p>\n",
        "\n",
        "<br>\n",
        "\n",
        "><b>Note:</b><p align = 'justify'>\n",
        ">With different choices of systems, we get different surroundings. Stuff that is part of the surroundings with one choice of system might be part of the system given a different choice.\n",
        "</p>\n",
        "\n",
        "<br>\n",
        "\n",
        "The surface (real or imaginary) between our chosen system and the surroundings is called the <a href = #Definition-Boundary><b>boundary</b></a>.\n",
        "\n",
        "<br>\n",
        "\n",
        "><b>Note:</b><p align = 'justify'>\n",
        ">As a system evolves, the boundary between it and its surroundings can either <b>fixed</b> or <b>movable</b>.\n",
        "</p>\n",
        "\n",
        "<br>"
      ],
      "metadata": {
        "id": "diaWXlct8nns"
      }
    },
    {
      "cell_type": "code",
      "source": [],
      "metadata": {
        "id": "dDTVvt6X8oNS"
      },
      "execution_count": null,
      "outputs": []
    }
  ]
}