{
  "nbformat": 4,
  "nbformat_minor": 0,
  "metadata": {
    "colab": {
      "provenance": [],
      "authorship_tag": "ABX9TyMs6eiIW+IhOKxqweJpQ9yU",
      "include_colab_link": true
    },
    "kernelspec": {
      "name": "python3",
      "display_name": "Python 3"
    },
    "language_info": {
      "name": "python"
    }
  },
  "cells": [
    {
      "cell_type": "markdown",
      "metadata": {
        "id": "view-in-github",
        "colab_type": "text"
      },
      "source": [
        "<a href=\"https://colab.research.google.com/github/dr-bankert-augustana/PHYS_313/blob/main/PAL_4_2.ipynb\" target=\"_parent\"><img src=\"https://colab.research.google.com/assets/colab-badge.svg\" alt=\"Open In Colab\"/></a>"
      ]
    },
    {
      "cell_type": "markdown",
      "source": [
        "<a name=\"Notebook-Start\"></a>\n",
        "\n",
        "---\n",
        "\n",
        "<font size = 7> <b> Week 4: Friday PAL </b> </font>\n",
        "\n",
        "---"
      ],
      "metadata": {
        "id": "ZTRCRtWmeecr"
      }
    },
    {
      "cell_type": "markdown",
      "source": [
        "<a name=\"PAL\"></a>\n",
        "\n",
        "---\n",
        "\n",
        "<font size = 6> <b> 1. PAL </b> </font>\n",
        "\n",
        "---"
      ],
      "metadata": {
        "id": "ebhQD4ZfeiiE"
      }
    },
    {
      "cell_type": "markdown",
      "source": [
        "<font size = 5> <b> Problem 1 </b> </font>\n",
        "\n",
        "A rigid tank initially contains 1.5 kg of liquid water and 1.1 kg of water vapor in a saturated liquid-vapor mix at 100 degrees C. Determine the volume of the tank."
      ],
      "metadata": {
        "id": "v3cVxmt3elfn"
      }
    },
    {
      "cell_type": "code",
      "execution_count": null,
      "metadata": {
        "id": "bLon8NP3edOC"
      },
      "outputs": [],
      "source": [
        "# Please feel free to use Python to help you with this problem."
      ]
    },
    {
      "cell_type": "markdown",
      "source": [
        "<b>Your answer here</b>"
      ],
      "metadata": {
        "id": "T42WY6Avf5l_"
      }
    },
    {
      "cell_type": "markdown",
      "source": [
        "<font size = 5> <b> Problem 2 </b> </font>\n",
        "\n",
        "An ideal gas triples in volume as it expands from a smaller container into a larger container, if the temperature of the larger container is 80% the temperature of the original container, what happens to the pressure of the gas?"
      ],
      "metadata": {
        "id": "OEkFUax-f87c"
      }
    },
    {
      "cell_type": "code",
      "source": [
        "# Please feel free to use Python to help you with this problem."
      ],
      "metadata": {
        "id": "rrbJnC94f49y"
      },
      "execution_count": null,
      "outputs": []
    },
    {
      "cell_type": "markdown",
      "source": [
        "<b>Your answer here</b>"
      ],
      "metadata": {
        "id": "zYRRrJWYgUvF"
      }
    },
    {
      "cell_type": "markdown",
      "source": [
        "<font size = 5> <b> Problem 3 </b> </font>\n",
        "\n",
        "A 6.27 m$^3$ tank contains 200 kg of nitrogen at 175 K.\n",
        "Determine the pressure in the tank, using (a) the ideal-gas\n",
        "equation, (b) the van der Waals equation"
      ],
      "metadata": {
        "id": "VTWZaETBgXlv"
      }
    },
    {
      "cell_type": "code",
      "source": [
        "# Please feel free to use Python to help you with this problem."
      ],
      "metadata": {
        "id": "LbNuwQhpgU9V"
      },
      "execution_count": null,
      "outputs": []
    },
    {
      "cell_type": "markdown",
      "source": [
        "<b>Your answer here</b>"
      ],
      "metadata": {
        "id": "mTdnikgNhSDB"
      }
    }
  ]
}
